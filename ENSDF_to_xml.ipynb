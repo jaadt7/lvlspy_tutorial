{
 "cells": [
  {
   "attachments": {},
   "cell_type": "markdown",
   "metadata": {},
   "source": [
    "This notebook is specifically designed to read in ENSDF files and output to xml file using the lvlspy API. Below we install and import the necessary python packages"
   ]
  },
  {
   "cell_type": "code",
   "metadata": {},
   "outputs": [],
   "source": [
    "#quietly install any missing packages that are NOT built in to python\n",
    "import sys, subprocess, importlib.util, io, requests\n",
    "required = {'numpy','scipy', 'lvlspy'}\n",
    "installed = {pkg for pkg in required if importlib.util.find_spec(pkg) is not None}\n",
    "missing = required - installed\n",
    "\n",
    "if missing:\n",
    "    subprocess.check_call([sys.executable,'-m','pip','install','--quiet',*missing])\n",
    "\n",
    "import lvlspy.spcoll as lc\n",
    "from lvlspy.io import xml, ensdf\n",
    "from zipfile import ZipFile\n"
   ]
  },
  {
   "cell_type": "markdown",
   "metadata": {},
   "source": [
    "First, we set the species array and download the ENSDF files housed on OSF."
   ]
  },
  {
   "cell_type": "code",
    "\n",
    "!curl -o ensdf.026 -JL https://osf.io/76qc3/download #downloads the ENSDF file containing AL26\n",
    "!curl -o ensdf.085 -JL https://osf.io/gz2nr/download #downloads the ENSDF file containing KR85\n",
    "\n",
    "files = ['ensdf.026','ensdf.085'] #put the file names in an array to make looping easier"
   ]
  },
  {
   "cell_type": "markdown",
   "metadata": {},
   "source": [
    "Let's create a collection object and fill it with the specified species from the ENSDF files."
   ]
  },
  {
   "cell_type": "code",
   "execution_count": 3,
   "metadata": {},
   "outputs": [],
   "source": [
    "new_coll = lc.SpColl()\n",
    "for i,sp in enumerate(species_list):\n",
    "    ensdf.update_from_ensdf(new_coll,files[i],sp)"
   ]
  },
  {
   "cell_type": "markdown",
   "metadata": {},
   "source": [
    "Now with the species in memory in the form of lvlspy objects, we can print the output of some properties to terminal "
   ]
  },
  {
   "cell_type": "code",
   "execution_count": null,
   "metadata": {},
   "outputs": [],
   "source": [
    "for s in new_coll.get():\n",
    "    print('Species: ' + new_coll.get()[s].get_name())\n",
    "    print('level index   energy(keV)  multiplicity   ENSDF JPI')\n",
    "    sp = new_coll.get()[s]\n",
    "    levs = sp.get_levels()\n",
    "    for l in levs:\n",
    "        print('      ' + str(levs.index(l)) + '         '+str(l.get_energy()) + '          '+str(l.get_multiplicity()) + '            '+l.get_properties()['j^pi'])"
   ]
  },
  {
   "cell_type": "markdown",
   "metadata": {},
   "source": [
    "One may note some levels have listed multiplicities as 10000. That is set as an internal flag when the JPI isn't clearly set in the ENSDF record.\n",
    "Now that the level properties are read in, you can write them to file of a different format. We will write the the collection to txt file, and then print it read it to verify it was properly written."
   ]
  },
  {
   "cell_type": "code",
   "execution_count": null,
   "metadata": {},
   "outputs": [],
   "source": [
    "ensdf.write_to_ensdf(new_coll,'test.txt')\n",
    "!cat test.txt #display the new file"
   ]
  },
  {
   "cell_type": "markdown",
   "metadata": {},
   "source": [
    "Another format that would be of interest would be XML that can be used with libnucnet. To do so, we will read in the newly created txt file and create and validate the libnucnet XML. Please note that the IO feature is modular, so adding in new formats is simple and straight forward."
   ]
  },
  {
   "cell_type": "code",
   "execution_count": null,
   "metadata": {},
   "outputs": [],
   "source": [
    "new_coll_1 = lc.SpColl() #creat a new collection based on what was written to the new file\n",
    "for sp in species_list:\n",
    "    ensdf.update_from_ensdf(new_coll_1,'test.txt',sp)\n",
    "\n",
    "xml.write_to_xml(new_coll_1,'ensdf_to_xml.xml')\n",
    "\n",
    "xml.validate('ensdf_to_xml.xml') #validate it\n",
    "\n",
    "!cat ensdf_to_xml.xml #print it out"
   ]
  }
 ],
 "metadata": {
  "kernelspec": {
   "display_name": "virtual_environment",
   "language": "python",
   "name": "python3"
  },
  "language_info": {
   "codemirror_mode": {
    "name": "ipython",
    "version": 3
   },
   "file_extension": ".py",
   "mimetype": "text/x-python",
   "name": "python",
   "nbconvert_exporter": "python",
   "pygments_lexer": "ipython3",
   "version": "3.12.3"
  }
 },
 "nbformat": 4,
 "nbformat_minor": 4
}
