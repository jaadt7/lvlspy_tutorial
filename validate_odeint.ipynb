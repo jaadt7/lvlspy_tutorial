{
 "cells": [
  {
   "cell_type": "markdown",
   "metadata": {},
   "source": [
    "This notebook is structured to read levels from an xml and perform sample calculations. We start off by installing any missing packages this notebook will need to fully run."
   ]
  },
  {
   "cell_type": "code",
   "execution_count": 1,
   "metadata": {},
   "outputs": [],
   "source": [
    "import sys, subprocess, pkg_resources\n",
    "required = {'numpy','lvlspy','matplotlib', 'scipy'}\n",
    "installed = {pkg.key for pkg in pkg_resources.working_set}\n",
    "missing = required - installed\n",
    "if missing:\n",
    "    subprocess.check_call([sys.executable, '-m','pip','install','--quiet',*missing])\n",
    "\n",
    "\n",
    "import numpy as np\n",
    "from scipy.integrate import odeint\n",
    "import lvlspy.level as lv\n",
    "import lvlspy.spcoll as lc\n",
    "import lvlspy.species as ls\n",
    "import lvlspy.transition as lt\n",
    "import matplotlib.pyplot as plt"
   ]
  },
  {
   "cell_type": "markdown",
   "metadata": {},
   "source": [
    "Now download an example xml file, called, appropriately enough, *example.xml*, from [OSF](https://osf.io/3f59u/).  You may instead place or upload your own file and use it by commenting out the *curl* command."
   ]
  },
  {
   "cell_type": "code",
   "execution_count": 2,
   "metadata": {},
   "outputs": [
    {
     "name": "stdout",
     "output_type": "stream",
     "text": [
      "  % Total    % Received % Xferd  Average Speed   Time    Time     Time  Current\n",
      "                                 Dload  Upload   Total   Spent    Left  Speed\n",
      "100   459  100   459    0     0   1358      0 --:--:-- --:--:-- --:--:--  1447\n",
      "100  2633  100  2633    0     0   1395      0  0:00:01  0:00:01 --:--:--  7654\n"
     ]
    }
   ],
   "source": [
    "!curl -o example.xml -J -L https://osf.io/w6ndg/download"
   ]
  },
  {
   "cell_type": "markdown",
   "metadata": {},
   "source": [
    "Begin by creating a new species collection."
   ]
  },
  {
   "cell_type": "code",
   "execution_count": 3,
   "metadata": {},
   "outputs": [],
   "source": [
    "new_coll = lc.SpColl()"
   ]
  },
  {
   "cell_type": "markdown",
   "metadata": {},
   "source": [
    "Now ensure that the data in *example.xml* are appropriate to use with *lvlspy* by validating the XML file against the appropriate liblvls schema."
   ]
  },
  {
   "cell_type": "code",
   "execution_count": 4,
   "metadata": {},
   "outputs": [],
   "source": [
    "new_coll.validate('example.xml')"
   ]
  },
  {
   "cell_type": "markdown",
   "metadata": {},
   "source": [
    "Now read the data into the species collection by updating the (empty) collection with data from the XML file."
   ]
  },
  {
   "cell_type": "code",
   "execution_count": 5,
   "metadata": {},
   "outputs": [],
   "source": [
    "new_coll.update_from_xml('example.xml')"
   ]
  },
  {
   "cell_type": "markdown",
   "metadata": {},
   "source": [
    "Let's extract the species from the collection and set a temperature (in Kelvin)"
   ]
  },
  {
   "cell_type": "code",
   "execution_count": 6,
   "metadata": {},
   "outputs": [],
   "source": [
    "sp = new_coll.get()['my_species']\n",
    "T = 1.e9 #K"
   ]
  },
  {
   "cell_type": "markdown",
   "metadata": {},
   "source": [
    "From the stored properties in the xml, energies, Einstein A coefficients, and multiplicities, with the supplied temperature, we can calculate the rate matrix"
   ]
  },
  {
   "cell_type": "code",
   "execution_count": 7,
   "metadata": {},
   "outputs": [
    {
     "name": "stdout",
     "output_type": "stream",
     "text": [
      "\n",
      "Rate Matrix:\n",
      "\n",
      "0 0 -99.61520922412008\n",
      "0 1 145.63353766999222\n",
      "0 2 110.88749726829367\n",
      "0 3 103.17423799887672\n",
      "0 4 100.30298949477434\n",
      "1 0 45.633537669992236\n",
      "1 1 -363.7504249198252\n",
      "1 2 145.63353766999222\n",
      "1 3 110.88749726829367\n",
      "1 4 100.973414921661\n",
      "2 0 43.549989073174686\n",
      "2 1 182.53415067996895\n",
      "2 2 -293.1268666899376\n",
      "2 3 145.63353766999222\n",
      "2 4 103.17423799887672\n",
      "3 0 9.522713996630143\n",
      "3 1 32.66249180488102\n",
      "3 2 34.22515325249418\n",
      "3 3 -370.58277020545626\n",
      "3 4 110.88749726829367\n",
      "4 0 0.9089684843230127\n",
      "4 1 2.9202447649830314\n",
      "4 2 2.380678499157536\n",
      "4 3 10.887497268293671\n",
      "4 4 -415.33813968360573\n"
     ]
    }
   ],
   "source": [
    "rate_matrix = sp.compute_rate_matrix(T)\n",
    "\n",
    "print('\\nRate Matrix:\\n')\n",
    "\n",
    "for i in range(rate_matrix.shape[0]):\n",
    "    for j in range(rate_matrix.shape[1]):\n",
    "        print(i, j, rate_matrix[i, j])"
   ]
  },
  {
   "cell_type": "markdown",
   "metadata": {},
   "source": [
    "The following exercises can be done by going through the steps of the other notebook without having to import an xml, but for the sake of flexing the power of the API, this is the route we chose. Since we have a rate matrix, we can now evolve our species with time at a fixed temperature. The governing differential equation is $\\frac{dY}{dt} = \\Lambda Y$. We solve this with an integrator."
   ]
  },
  {
   "cell_type": "markdown",
   "metadata": {},
   "source": [
    "Set up the beginning and end times and the number of time steps to integrate over."
   ]
  },
  {
   "cell_type": "code",
   "execution_count": 8,
   "metadata": {},
   "outputs": [],
   "source": [
    "t_begin = 1.e-30\n",
    "t_end = 100\n",
    "n_steps = 2000"
   ]
  },
  {
   "cell_type": "markdown",
   "metadata": {},
   "source": [
    "Now create the time array from those inputs.  Insert zero at the beginning."
   ]
  },
  {
   "cell_type": "code",
   "execution_count": 9,
   "metadata": {},
   "outputs": [],
   "source": [
    "t = np.logspace(np.log10(t_begin), np.log10(t_end), n_steps)"
   ]
  },
  {
   "cell_type": "markdown",
   "metadata": {},
   "source": [
    "Define the routine to compute the derivatives."
   ]
  },
  {
   "cell_type": "code",
   "execution_count": 10,
   "metadata": {},
   "outputs": [],
   "source": [
    "def my_func(y, t, rate_matrix):\n",
    "    return rate_matrix.dot(y)"
   ]
  },
  {
   "cell_type": "markdown",
   "metadata": {},
   "source": [
    "Now solve the coupled equations with an exponential solver.  First, set the initial probability vector (here with all probability in the first state initially).  Then create a sparse matrix version of the rate matrix and solve."
   ]
  },
  {
   "cell_type": "code",
   "execution_count": 11,
   "metadata": {},
   "outputs": [],
   "source": [
    "y = np.zeros(rate_matrix.shape[0])\n",
    "y[0] = 1\n",
    "\n",
    "sol = odeint(my_func, y, t, args=(rate_matrix,))"
   ]
  },
  {
   "cell_type": "markdown",
   "metadata": {},
   "source": [
    "Before plotting the solution, we can also compute the equilibrium solution beforehand and see if our evolved solutions will tend to them."
   ]
  },
  {
   "cell_type": "code",
   "execution_count": 12,
   "metadata": {},
   "outputs": [],
   "source": [
    "eq_probs = sp.compute_equilibrium_probabilities(T)"
   ]
  },
  {
   "cell_type": "markdown",
   "metadata": {},
   "source": [
    "Now plot the probability evolution and equilibrium (as *x*'s)."
   ]
  },
  {
   "cell_type": "code",
   "execution_count": 13,
   "metadata": {},
   "outputs": [
    {
     "data": {
      "text/plain": [
       "<matplotlib.legend.Legend at 0x126560050>"
      ]
     },
     "execution_count": 13,
     "metadata": {},
     "output_type": "execute_result"
    },
    {
     "data": {
      "image/png": "[encoded data removed]",
      "text/plain": [
       "<Figure size 640x480 with 1 Axes>"
      ]
     },
     "metadata": {},
     "output_type": "display_data"
    }
   ],
   "source": [
    "for i in range(sol.shape[1]):\n",
    "    plt.plot(t, sol[:, i], label = 'Level ' + str(i))\n",
    "    \n",
    "plt.gca().set_prop_cycle(None)  # Reset the color cycle to align equilibria with network solutions.\n",
    "\n",
    "for i in range(sol.shape[1]):\n",
    "    plt.plot(t[t.shape[0]-1], eq_probs[i], 'x')\n",
    "    \n",
    "plt.xscale('log')\n",
    "plt.xlim([1.e-10, 1000])\n",
    "plt.xlabel('time (s)')\n",
    "plt.ylabel('Probability')\n",
    "plt.legend()"
   ]
  },
  {
   "cell_type": "markdown",
   "metadata": {},
   "source": [
    "The fugacity evolution of each level can be calculated based on the attained solution"
   ]
  },
  {
   "cell_type": "code",
   "execution_count": 14,
   "metadata": {},
   "outputs": [
    {
     "data": {
      "text/plain": [
       "Text(0, 0.5, 'Fugacity')"
      ]
     },
     "execution_count": 14,
     "metadata": {},
     "output_type": "execute_result"
    },
    {
     "data": {
      "image/png": "[encoded data removed]",
      "text/plain": [
       "<Figure size 640x480 with 1 Axes>"
      ]
     },
     "metadata": {},
     "output_type": "display_data"
    }
   ],
   "source": [
    "fugacities = np.empty((sol.shape[0], sol.shape[1]))\n",
    "\n",
    "for i in range(len(sp.get_levels())):\n",
    "    fugacities[:, i] = sol[:, i] / eq_probs[i]\n",
    "    \n",
    "for i in range(len(sp.get_levels())):\n",
    "    plt.plot(t, fugacities[:, i], label = str(i) + ' level')\n",
    "    \n",
    "plt.xscale('log')\n",
    "plt.xlim([1.e-6, 100])\n",
    "plt.xlabel('time (s)')\n",
    "plt.ylabel('Fugacity')"
   ]
  },
  {
   "cell_type": "markdown",
   "metadata": {},
   "source": [
    "As a final step to illustrate another *SpColl* method, output the data in the species collection to new files.  The first uses the default energy scale (*keV*) while the second specifically selects *eV* as the energy scale for the levels."
   ]
  },
  {
   "cell_type": "code",
   "execution_count": 15,
   "metadata": {},
   "outputs": [
    {
     "name": "stdout",
     "output_type": "stream",
     "text": [
      "<species_collection>\r\n",
      "  <species name=\"my_species\">\r\n",
      "    <levels>\r\n",
      "      <level>\r\n",
      "        <properties>\r\n",
      "          <energy units=\"eV\">0.0</energy>\r\n",
      "          <multiplicity>1</multiplicity>\r\n",
      "        </properties>\r\n",
      "      </level>\r\n",
      "      <level>\r\n",
      "        <properties>\r\n",
      "          <energy units=\"eV\">100000.0</energy>\r\n",
      "          <multiplicity>1</multiplicity>\r\n",
      "        </properties>\r\n",
      "        <transitions>\r\n",
      "          <transition>\r\n",
      "            <to_energy units=\"eV\">0.0</to_energy>\r\n",
      "            <to_multiplicity>1</to_multiplicity>\r\n",
      "            <a>100.0</a>\r\n",
      "          </transition>\r\n",
      "        </transitions>\r\n",
      "      </level>\r\n",
      "      <level>\r\n",
      "        <properties>\r\n",
      "          <energy units=\"eV\">200000.0</energy>\r\n",
      "          <multiplicity>4</multiplicity>\r\n",
      "        </properties>\r\n",
      "        <transitions>\r\n",
      "          <transition>\r\n",
      "            <to_energy units=\"eV\">100000.0</to_energy>\r\n",
      "            <to_multiplicity>1</to_multiplicity>\r\n",
      "            <a>100.0</a>\r\n",
      "          </transition>\r\n",
      "          <transition>\r\n",
      "            <to_energy units=\"eV\">0.0</to_energy>\r\n",
      "            <to_multiplicity>1</to_multiplicity>\r\n",
      "            <a>100.0</a>\r\n",
      "          </transition>\r\n",
      "        </transitions>\r\n",
      "      </level>\r\n",
      "      <level>\r\n",
      "        <properties>\r\n",
      "          <energy units=\"eV\">300000.0</energy>\r\n",
      "          <multiplicity>3</multiplicity>\r\n",
      "        </properties>\r\n",
      "        <transitions>\r\n",
      "          <transition>\r\n",
      "            <to_energy units=\"eV\">200000.0</to_energy>\r\n",
      "            <to_multiplicity>4</to_multiplicity>\r\n",
      "            <a>100.0</a>\r\n",
      "          </transition>\r\n",
      "          <transition>\r\n",
      "            <to_energy units=\"eV\">100000.0</to_energy>\r\n",
      "            <to_multiplicity>1</to_multiplicity>\r\n",
      "            <a>100.0</a>\r\n",
      "          </transition>\r\n",
      "          <transition>\r\n",
      "            <to_energy units=\"eV\">0.0</to_energy>\r\n",
      "            <to_multiplicity>1</to_multiplicity>\r\n",
      "            <a>100.0</a>\r\n",
      "          </transition>\r\n",
      "        </transitions>\r\n",
      "      </level>\r\n",
      "      <level>\r\n",
      "        <properties>\r\n",
      "          <energy units=\"eV\">500000.0</energy>\r\n",
      "          <multiplicity>3</multiplicity>\r\n",
      "        </properties>\r\n",
      "        <transitions>\r\n",
      "          <transition>\r\n",
      "            <to_energy units=\"eV\">300000.0</to_energy>\r\n",
      "            <to_multiplicity>3</to_multiplicity>\r\n",
      "            <a>100.0</a>\r\n",
      "          </transition>\r\n",
      "          <transition>\r\n",
      "            <to_energy units=\"eV\">200000.0</to_energy>\r\n",
      "            <to_multiplicity>4</to_multiplicity>\r\n",
      "            <a>100.0</a>\r\n",
      "          </transition>\r\n",
      "          <transition>\r\n",
      "            <to_energy units=\"eV\">100000.0</to_energy>\r\n",
      "            <to_multiplicity>1</to_multiplicity>\r\n",
      "            <a>100.0</a>\r\n",
      "          </transition>\r\n",
      "          <transition>\r\n",
      "            <to_energy units=\"eV\">0.0</to_energy>\r\n",
      "            <to_multiplicity>1</to_multiplicity>\r\n",
      "            <a>100.0</a>\r\n",
      "          </transition>\r\n",
      "        </transitions>\r\n",
      "      </level>\r\n",
      "    </levels>\r\n",
      "  </species>\r\n",
      "</species_collection>\r\n"
     ]
    }
   ],
   "source": [
    "new_coll.write_to_xml(\"new_example.xml\")\n",
    "\n",
    "new_coll.write_to_xml(\"new_example_ev.xml\", units = 'eV')\n",
    "\n",
    "!cat new_example_ev.xml"
   ]
  },
  {
   "cell_type": "code",
   "execution_count": null,
   "metadata": {},
   "outputs": [],
   "source": []
  }
 ],
 "metadata": {
  "kernelspec": {
   "display_name": "Python 3 (ipykernel)",
   "language": "python",
   "name": "python3"
  },
  "language_info": {
   "codemirror_mode": {
    "name": "ipython",
    "version": 3
   },
   "file_extension": ".py",
   "mimetype": "text/x-python",
   "name": "python",
   "nbconvert_exporter": "python",
   "pygments_lexer": "ipython3",
   "version": "3.11.2"
  },
  "vscode": {
   "interpreter": {
    "hash": "916dbcbb3f70747c44a77c7bcd40155683ae19c65e1c03b4aa3499c5328201f1"
   }
  }
 },
 "nbformat": 4,
 "nbformat_minor": 2
}
