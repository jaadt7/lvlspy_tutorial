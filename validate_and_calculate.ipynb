{
 "cells": [
  {
   "cell_type": "markdown",
   "metadata": {},
   "source": [
    "This notebook is structured to read levels from an xml and perform sample calculations. We start off by installing any missing packages this notebook will need to fully run."
   ]
  },
  {
   "cell_type": "code",
   "execution_count": null,
   "metadata": {},
   "outputs": [],
   "source": [
    "import sys, subprocess, pkg_resources\n",
    "required = {'numpy','lvlspy','matplotlib'}\n",
    "installed = {pkg.key for pkg in pkg_resources.working_set}\n",
    "missing = required - installed\n",
    "if missing:\n",
    "    subprocess.check_call([sys.executable, '-m','pip','install','--quiet',*missing])\n",
    "\n",
    "\n",
    "import numpy as np\n",
    "import lvlspy.level as lv\n",
    "import lvlspy.spcoll as lc\n",
    "import lvlspy.species as ls\n",
    "import lvlspy.transition as lt\n",
    "import matplotlib.pyplot as plt"
   ]
  },
  {
   "cell_type": "markdown",
   "metadata": {},
   "source": [
    "You can also create new empty species collection, validate any existing xml, update the created empty collection and output to a specific unit"
   ]
  },
  {
   "cell_type": "code",
   "execution_count": null,
   "metadata": {},
   "outputs": [],
   "source": [
    "#Empty collection\n",
    "new_coll = lc.SpColl()\n",
    "\n",
    "#Validate existing xml\n",
    "new_coll.validate('example.xml')\n",
    "\n",
    "#Update collection from xml\n",
    "new_coll.update_from_xml('example.xml')\n",
    "\n",
    "#Writing to new xml\n",
    "new_coll.write_to_xml(\"new_example.xml\")\n",
    "\n",
    "#Write with specific units\n",
    "new_coll.write_to_xml(\"new_example_ev.xml\", units = 'ev')\n",
    "\n",
    "!cat new_example_ev.xml"
   ]
  },
  {
   "cell_type": "markdown",
   "metadata": {},
   "source": [
    "Let's extract the species from the collection and set a temperature (in Kelvin)"
   ]
  },
  {
   "cell_type": "code",
   "execution_count": null,
   "metadata": {},
   "outputs": [],
   "source": [
    "sp = new_coll.get()['my_species'] #my_species should be replaced with whatever element you are testing, such as kr85 or ta180\n",
    "T = 1.e+9 #K"
   ]
  },
  {
   "cell_type": "markdown",
   "metadata": {},
   "source": [
    "From the stored properties in the xml, energies, Einstein A coefficients, and multiplicities, with the supplied temperature, we can calculate the rate matrix"
   ]
  },
  {
   "cell_type": "code",
   "execution_count": null,
   "metadata": {},
   "outputs": [],
   "source": [
    "rate_matrix = sp.compute_rate_matrix(T)\n",
    "\n",
    "print('\\nRate Matrix:\\n')\n",
    "\n",
    "for i in range(rate_matrix.shape[0]):\n",
    "    for j in range(rate_matrix.shape[1]):\n",
    "        print(i, j, rate_matrix[i, j])"
   ]
  },
  {
   "cell_type": "markdown",
   "metadata": {},
   "source": [
    "The following exercises can be done by going through the steps of the other notebook without having to import an xml, but for the sake of flexing the power of the API, this is the route we chose. Since we have a rate matrix, we can now evolve our species with time at a fixed temperature. The governing differential equation is $\\frac{dY}{dt} = \\Lambda Y$. The integrator for this 5 coupled equations is the Newton-Raphson method, a full description can be found at [webnucleo.org](https://webnucleo.readthedocs.io/en/latest/jupyter_notebooks.html).\n",
    "\n",
    "The following definition calculates the vector f in the equation $A\\delta = -f$. The following contains the setup and loop for the Newton-Raphson solver. If you are unfamiliar with the method, it is fully described "
   ]
  },
  {
   "cell_type": "code",
   "execution_count": null,
   "metadata": {},
   "outputs": [],
   "source": [
    "def f_vector(y_dt,y_i,A):\n",
    "    return np.matmul(A,y_dt) - y_i"
   ]
  },
  {
   "cell_type": "markdown",
   "metadata": {},
   "source": [
    "The following sets up and implements the Newton-Raphson method."
   ]
  },
  {
   "cell_type": "code",
   "execution_count": null,
   "metadata": {},
   "outputs": [],
   "source": [
    "tol = 1.e-6 #convergence tolerance on newton raphson solver \n",
    "t = np.linspace(0,1,1000) #Time array\n",
    "dt = t[1] - t[0] #Time step\n",
    "y = np.array([1.,0,0,0,0]) #initial condition where only the ground state is populated\n",
    "\n",
    "A = np.identity(5) - dt*rate_matrix #since the matrix is constant in time, we calculate it once for time/efficiency sake\n",
    "\n",
    "#A good guess of a NR solver is the value of the system at current time  \n",
    "y_dt = y\n",
    "###########################\n",
    "#for memory and processing consideration, it is best to setup the 2D array that will contain the solution of the system \n",
    "#throughout time\n",
    "Y = np.empty((5,len(t)))\n",
    "#setting the 1st column to the initial condition\n",
    "Y[:,0] = y\n",
    "\n",
    "for i in range(1,len(t)): \n",
    "    delta = np.ones(5)\n",
    "    while max(delta) > tol:\n",
    "        delta = np.linalg.solve(A,-f_vector(y_dt,y,A))\n",
    "        y_dt = y_dt + delta\n",
    "    #updating the 2D array after convergence\n",
    "    Y[:,i] = y_dt\n",
    "    #setting the new initial condition to the converged solution from previous step\n",
    "    y = y_dt"
   ]
  },
  {
   "cell_type": "markdown",
   "metadata": {},
   "source": [
    "Before plotting the solution, we can also compute the equilibrium solution beforehand and see if our evolved solutions will tend to them."
   ]
  },
  {
   "cell_type": "code",
   "execution_count": null,
   "metadata": {},
   "outputs": [],
   "source": [
    "eq_probs = sp.compute_equilibrium_probabilities(T)\n",
    "\n",
    "plt.figure(figsize=(12,12))\n",
    "for i in range(len(sp.get_levels())):\n",
    "    plt.plot(t,Y[i,:],label = str(i) + ' level')\n",
    "        \n",
    "for i in range(len(eq_probs)):\n",
    "    plt.plot(1, eq_probs[i], 'x')\n",
    "\n",
    "plt.legend()\n",
    "plt.show()"
   ]
  },
  {
   "cell_type": "markdown",
   "metadata": {},
   "source": [
    "The fugacity evolution of each level can be calculated based on the attained solution"
   ]
  },
  {
   "cell_type": "code",
   "execution_count": null,
   "metadata": {},
   "outputs": [],
   "source": [
    "fugacities = np.empty((Y.shape[0], Y.shape[1]))\n",
    "\n",
    "for i in range(len(sp.get_levels())):\n",
    "    fugacities[i, :] = Y[i, :] / eq_probs[i]\n",
    "    \n",
    "plt.figure(figsize=(12,12))\n",
    "for i in range(len(sp.get_levels())):\n",
    "    plt.plot(t,fugacities[i,:],label = str(i) + ' level')\n",
    "    \n",
    "plt.xlim([0,0.1])"
   ]
  }
 ],
 "metadata": {
  "kernelspec": {
   "display_name": "Python 3.9.2 64-bit",
   "language": "python",
   "name": "python3"
  },
  "language_info": {
   "codemirror_mode": {
    "name": "ipython",
    "version": 3
   },
   "file_extension": ".py",
   "mimetype": "text/x-python",
   "name": "python",
   "nbconvert_exporter": "python",
   "pygments_lexer": "ipython3",
   "version": "3.9.2"
  },
  "orig_nbformat": 4,
  "vscode": {
   "interpreter": {
    "hash": "916dbcbb3f70747c44a77c7bcd40155683ae19c65e1c03b4aa3499c5328201f1"
   }
  }
 },
 "nbformat": 4,
 "nbformat_minor": 2
}
