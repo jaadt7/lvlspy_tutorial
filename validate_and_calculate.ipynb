{
 "cells": [
  {
   "cell_type": "markdown",
   "metadata": {},
   "source": [
    "This notebook is structured to read levels from an xml and perform sample calculations. We start off by installing any missing packages this notebook will need to fully run."
   ]
  },
  {
   "cell_type": "code",
   "execution_count": 1,
   "metadata": {},
   "outputs": [],
   "source": [
    "import sys, subprocess, importlib.util\n",
    "required = {'numpy','lvlspy','matplotlib','scipy'}\n",
    "installed = {pkg for pkg in required if importlib.util.find_spec(pkg) is not None}\n",
    "missing = required - installed\n",
    "if missing:\n",
    "    subprocess.check_call([sys.executable, '-m','pip','install','--quiet',*missing])\n",
    "\n",
    "\n",
    "import numpy as np\n",
    "import lvlspy.spcoll as lc\n",
    "import matplotlib.pyplot as plt\n",
    "\n",
    "from lvlspy.io import xml\n",
    "from lvlspy.calculate import evolve"
   ]
  },
  {
   "cell_type": "markdown",
   "metadata": {},
   "source": [
    "Begin by downloading an example xml file, called, appropriately enough, *example.xml*, from [OSF](https://osf.io/3f59u/).  You may instead place or upload your own file and use it by commenting out the *curl* command."
   ]
  },
  {
   "cell_type": "code",
   "execution_count": null,
   "metadata": {},
   "outputs": [],
   "source": [
    "!curl -o example.xml -J -L https://osf.io/w6ndg/download"
   ]
  },
  {
   "cell_type": "markdown",
   "metadata": {},
   "source": [
    "Begin by creating a new species collection."
   ]
  },
  {
   "cell_type": "code",
   "execution_count": 3,
   "metadata": {},
   "outputs": [],
   "source": [
    "new_coll = lc.SpColl()"
   ]
  },
  {
   "cell_type": "markdown",
   "metadata": {},
   "source": [
    "Now ensure that the data in *example.xml* are appropriate to use with *lvlspy* by validating the XML file against the appropriate liblvls schema."
   ]
  },
  {
   "cell_type": "code",
   "execution_count": 4,
   "metadata": {},
   "outputs": [],
   "source": [
    "xml.validate('example.xml')"
   ]
  },
  {
   "cell_type": "markdown",
   "metadata": {},
   "source": [
    "Now read the data into the species collection by updating the (empty) collection with data from the XML file."
   ]
  },
  {
   "cell_type": "code",
   "execution_count": 5,
   "metadata": {},
   "outputs": [],
   "source": [
    "xml.update_from_xml(new_coll,'example.xml')"
   ]
  },
  {
   "cell_type": "markdown",
   "metadata": {},
   "source": [
    "Let's extract the species from the collection and set a temperature (in Kelvin)"
   ]
  },
  {
   "cell_type": "code",
   "execution_count": 6,
   "metadata": {},
   "outputs": [],
   "source": [
    "sp = new_coll.get()['my_species']\n",
    "T = 1.e+9 #K"
   ]
  },
  {
   "cell_type": "markdown",
   "metadata": {},
   "source": [
    "From the stored properties in the xml, energies, Einstein A coefficients, and multiplicities, with the supplied temperature, we can calculate the rate matrix"
   ]
  },
  {
   "cell_type": "code",
   "execution_count": null,
   "metadata": {},
   "outputs": [],
   "source": [
    "rate_matrix = sp.compute_rate_matrix(T)\n",
    "\n",
    "print('\\nRate Matrix:\\n')\n",
    "\n",
    "for i in range(rate_matrix.shape[0]):\n",
    "    for j in range(rate_matrix.shape[1]):\n",
    "        print(i, j, rate_matrix[i, j])"
   ]
  },
  {
   "cell_type": "markdown",
   "metadata": {},
   "source": [
    "Now that we have a rate matrix, we can evolve our species at a fixed temperature. The API contains two methods built into the 'evolve' suite and will be demonstrated. The method to be demonstrated is the Newton-Raphson solver. The solver will output both the abundance and fugacity evolutions of each level."
   ]
  },
  {
   "cell_type": "code",
   "execution_count": 8,
   "metadata": {},
   "outputs": [],
   "source": [
    "#here we set the initial conditions for this example \n",
    "#we are setting the abundances to be totally in the \n",
    "#lowest level\n",
    "y0 = np.zeros(rate_matrix.shape[0]) \n",
    "y0[0] = 1.0\n",
    "\n",
    "#here we define the time array\n",
    "time = np.logspace(-30,2,200)\n",
    "\n",
    "#the method takes in 4 input and outputs 2\n",
    "#it takes the species and temperature to \n",
    "#calculate the rate matrix for it self. It\n",
    "#also takes the initial condition and the time\n",
    "#array to be integrated over. The method returns\n",
    "#the abundances and the fugacities respectively as 2D arrays. They\n",
    "#have the shape [rate_matrix.shape[0],len(time)]\n",
    "y,fug = evolve.newton_raphson(sp,T,y0,time)"
   ]
  },
  {
   "cell_type": "markdown",
   "metadata": {},
   "source": [
    "The API can also compute the equilibrium abundances directly at a given temperature"
   ]
  },
  {
   "cell_type": "code",
   "execution_count": 9,
   "metadata": {},
   "outputs": [],
   "source": [
    "eq_probs = sp.compute_equilibrium_probabilities(T)"
   ]
  },
  {
   "cell_type": "markdown",
   "metadata": {},
   "source": [
    "Let's plot the output starting with the abundances and overlay them with the equilibrium abundances"
   ]
  },
  {
   "cell_type": "code",
   "execution_count": null,
   "metadata": {},
   "outputs": [],
   "source": [
    "plt.figure()\n",
    "\n",
    "for i in range(rate_matrix.shape[0]):\n",
    "    plt.plot(time,y[i,:], label = str(i) + ' level')\n",
    "\n",
    "plt.gca().set_prop_cycle(None)  # Reset the color cycle to align equilibria with network solutions.\n",
    "\n",
    "for i in range(len(eq_probs)):\n",
    "    plt.plot(time[-1], eq_probs[i], 'x')\n",
    "\n",
    "plt.xlabel('time (s)')\n",
    "plt.ylabel('Probability')\n",
    "plt.xlim([1e-8,1000])\n",
    "plt.xscale('log')\n",
    "plt.legend()\n",
    "plt.show()"
   ]
  },
  {
   "cell_type": "markdown",
   "metadata": {},
   "source": [
    "As we can see, the solver rightly predicts the equilibrium abundances. The fugacity is defined as the likelyhood the species is to leave a level into the next. Levels with the same fugacity will not exchange abundances, and transitions will happen from levels with higher fugacity into lower ones. Equilibrium is achieved when all the levels have the same fugacity of 1"
   ]
  },
  {
   "cell_type": "code",
   "execution_count": null,
   "metadata": {},
   "outputs": [],
   "source": [
    "plt.figure()\n",
    "for i in range(fug.shape[0]):\n",
    "    plt.plot(time,fug[i,:])\n",
    "plt.xlabel('time (s)')\n",
    "plt.ylabel('Fugacity')\n",
    "plt.xscale('log')\n",
    "plt.xlim([1e-6,1000])\n",
    "plt.show()"
   ]
  },
  {
   "cell_type": "markdown",
   "metadata": {},
   "source": [
    "The second method the API contains involes a sparse matrix solver. The method has the same input and output as the Newton-Raphson solver\n"
   ]
  },
  {
   "cell_type": "code",
   "execution_count": 12,
   "metadata": {},
   "outputs": [],
   "source": [
    "y, fug = evolve.csc(sp,T,y0,time)"
   ]
  },
  {
   "cell_type": "markdown",
   "metadata": {},
   "source": [
    "Graphing the solution we get"
   ]
  },
  {
   "cell_type": "code",
   "execution_count": null,
   "metadata": {},
   "outputs": [],
   "source": [
    "plt.figure()\n",
    "\n",
    "for i in range(rate_matrix.shape[0]):\n",
    "    plt.plot(time,y[i,:], label = str(i) + ' level')\n",
    "\n",
    "plt.gca().set_prop_cycle(None)  # Reset the color cycle to align equilibria with network solutions.\n",
    "\n",
    "for i in range(len(eq_probs)):\n",
    "    plt.plot(time[-1], eq_probs[i], 'x')\n",
    "\n",
    "plt.xlabel('time (s)')\n",
    "plt.ylabel('Probability')\n",
    "plt.xlim([1e-8,1000])\n",
    "plt.xscale('log')\n",
    "plt.legend()\n",
    "plt.show()"
   ]
  },
  {
   "cell_type": "markdown",
   "metadata": {},
   "source": [
    "And the fugacity"
   ]
  },
  {
   "cell_type": "code",
   "execution_count": null,
   "metadata": {},
   "outputs": [],
   "source": [
    "plt.figure()\n",
    "for i in range(fug.shape[0]):\n",
    "    plt.plot(time,fug[i,:])\n",
    "plt.xlabel('time (s)')\n",
    "plt.ylabel('Fugacity')\n",
    "plt.xscale('log')\n",
    "plt.xlim([1e-6,1000])\n",
    "plt.show()"
   ]
  },
  {
   "cell_type": "markdown",
   "metadata": {},
   "source": [
    "Obviously the results should be the same between both methods. But one would notice the time to execute difference between the two. For such a small system, the Newton-Raphson technique is much faster. For larger systems, the sparse solver will be much faster."
   ]
  },
  {
   "cell_type": "markdown",
   "metadata": {},
   "source": [
    "As a final step to illustrate another *xml* method, we output the data in the species collection to new files.  The first uses the default energy scale (*keV*) while the second specifically selects *eV* as the energy scale for the levels."
   ]
  },
  {
   "cell_type": "code",
   "execution_count": null,
   "metadata": {},
   "outputs": [],
   "source": [
    "xml.write_to_xml(new_coll,'new_example.xml') #writing the original collection to a new xml file\n",
    "\n",
    "xml.write_to_xml(new_coll,'new_example_ev.xml',units = 'eV') #writes the same collection to xml but converts all the energies to eV\n",
    "\n",
    "!cat new_example_ev.xml"
   ]
  }
 ],
 "metadata": {
  "kernelspec": {
   "display_name": "virtual_environment",
   "language": "python",
   "name": "python3"
  },
  "language_info": {
   "codemirror_mode": {
    "name": "ipython",
    "version": 3
   },
   "file_extension": ".py",
   "mimetype": "text/x-python",
   "name": "python",
   "nbconvert_exporter": "python",
   "pygments_lexer": "ipython3",
   "version": "3.12.3"
  }
 },
 "nbformat": 4,
 "nbformat_minor": 2
}
