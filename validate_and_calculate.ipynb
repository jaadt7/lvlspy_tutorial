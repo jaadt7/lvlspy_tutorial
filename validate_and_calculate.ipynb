{
 "cells": [
  {
   "cell_type": "markdown",
   "metadata": {},
   "source": [
    "This notebook is structured to read levels from an xml and perform sample calculations. We start off by installing any missing packages this notebook will need to fully run."
   ]
  },
  {
   "cell_type": "code",
   "execution_count": 1,
   "metadata": {},
   "outputs": [],
   "source": [
    "import sys, subprocess, pkg_resources\n",
    "required = {'numpy','lvlspy','matplotlib'}\n",
    "installed = {pkg.key for pkg in pkg_resources.working_set}\n",
    "missing = required - installed\n",
    "if missing:\n",
    "    subprocess.check_call([sys.executable, '-m','pip','install','--quiet',*missing])\n",
    "\n",
    "\n",
    "import numpy as np\n",
    "import lvlspy.level as lv\n",
    "import lvlspy.spcoll as lc\n",
    "import lvlspy.species as ls\n",
    "import lvlspy.transition as lt\n",
    "import matplotlib.pyplot as plt"
   ]
  },
  {
   "cell_type": "markdown",
   "metadata": {},
   "source": [
    "Begin by downloading an example xml file, called, appropriately enough, *example.xml*, from [OSF](https://osf.io/3f59u/).  You may instead place or upload your own file and use it by commenting out the *curl* command."
   ]
  },
  {
   "cell_type": "code",
   "execution_count": 2,
   "metadata": {},
   "outputs": [
    {
     "name": "stdout",
     "output_type": "stream",
     "text": [
      "  % Total    % Received % Xferd  Average Speed   Time    Time     Time  Current\n",
      "                                 Dload  Upload   Total   Spent    Left  Speed\n",
      "100   459  100   459    0     0   1638      0 --:--:-- --:--:-- --:--:--  1719\n",
      "100  2633  100  2633    0     0   2612      0  0:00:01  0:00:01 --:--:--     0\n"
     ]
    }
   ],
   "source": [
    "!curl -o example.xml -J -L https://osf.io/w6ndg/download"
   ]
  },
  {
   "cell_type": "markdown",
   "metadata": {},
   "source": [
    "Begin by creating a new species collection."
   ]
  },
  {
   "cell_type": "code",
   "execution_count": 3,
   "metadata": {},
   "outputs": [],
   "source": [
    "new_coll = lc.SpColl()"
   ]
  },
  {
   "cell_type": "markdown",
   "metadata": {},
   "source": [
    "Now ensure that the data in *example.xml* are appropriate to use with *lvlspy* by validating the XML file against the appropriate liblvls schema."
   ]
  },
  {
   "cell_type": "code",
   "execution_count": 4,
   "metadata": {},
   "outputs": [],
   "source": [
    "new_coll.validate('example.xml')"
   ]
  },
  {
   "cell_type": "markdown",
   "metadata": {},
   "source": [
    "Now read the data into the species collection by updating the (empty) collection with data from the XML file."
   ]
  },
  {
   "cell_type": "code",
   "execution_count": 5,
   "metadata": {},
   "outputs": [],
   "source": [
    "new_coll.update_from_xml('example.xml')"
   ]
  },
  {
   "cell_type": "markdown",
   "metadata": {},
   "source": [
    "Let's extract the species from the collection and set a temperature (in Kelvin)"
   ]
  },
  {
   "cell_type": "code",
   "execution_count": 6,
   "metadata": {},
   "outputs": [],
   "source": [
    "sp = new_coll.get()['my_species']\n",
    "T = 1.e+9 #K"
   ]
  },
  {
   "cell_type": "markdown",
   "metadata": {},
   "source": [
    "From the stored properties in the xml, energies, Einstein A coefficients, and multiplicities, with the supplied temperature, we can calculate the rate matrix"
   ]
  },
  {
   "cell_type": "code",
   "execution_count": 7,
   "metadata": {},
   "outputs": [
    {
     "name": "stdout",
     "output_type": "stream",
     "text": [
      "\n",
      "Rate Matrix:\n",
      "\n",
      "0 0 -99.61495634135446\n",
      "0 1 145.63345239240016\n",
      "0 2 110.887466284836\n",
      "0 3 103.17422539160692\n",
      "0 4 100.30298754492985\n",
      "1 0 45.633452392400145\n",
      "1 1 -363.7498904467478\n",
      "1 2 145.63345239240016\n",
      "1 3 110.887466284836\n",
      "1 4 100.97340987674636\n",
      "2 0 43.549865139344\n",
      "2 1 182.53380956960058\n",
      "2 2 -293.1266770152415\n",
      "2 3 145.63345239240016\n",
      "2 4 103.17422539160692\n",
      "3 0 9.522676174820772\n",
      "3 1 32.662398854508005\n",
      "3 2 34.22508929430011\n",
      "3 3 -370.5826103536791\n",
      "3 4 110.887466284836\n",
      "4 0 0.908962634789544\n",
      "4 1 2.9202296302390773\n",
      "4 2 2.380669043705193\n",
      "4 3 10.887466284836\n",
      "4 4 -415.33808909811916\n"
     ]
    }
   ],
   "source": [
    "rate_matrix = sp.compute_rate_matrix(T)\n",
    "\n",
    "print('\\nRate Matrix:\\n')\n",
    "\n",
    "for i in range(rate_matrix.shape[0]):\n",
    "    for j in range(rate_matrix.shape[1]):\n",
    "        print(i, j, rate_matrix[i, j])"
   ]
  },
  {
   "cell_type": "markdown",
   "metadata": {},
   "source": [
    "The following exercises can be done by going through the steps of the other notebook without having to import an xml, but for the sake of flexing the power of the API, this is the route we chose. Since we have a rate matrix, we can now evolve our species with time at a fixed temperature. The governing differential equation is $\\frac{dY}{dt} = \\Lambda Y$. The integrator for this 5 coupled equations is the Newton-Raphson method, a full description can be found at [webnucleo.org](https://webnucleo.readthedocs.io/en/latest/jupyter_notebooks.html).\n",
    "\n",
    "The following definition calculates the vector f in the equation $A\\delta = -f$. The following contains the setup and loop for the Newton-Raphson solver. If you are unfamiliar with the method, it is fully described "
   ]
  },
  {
   "cell_type": "code",
   "execution_count": 8,
   "metadata": {},
   "outputs": [],
   "source": [
    "def f_vector(y_dt,y_i,A):\n",
    "    return np.matmul(A,y_dt) - y_i"
   ]
  },
  {
   "cell_type": "markdown",
   "metadata": {},
   "source": [
    "The following sets up and implements the Newton-Raphson method."
   ]
  },
  {
   "cell_type": "code",
   "execution_count": 9,
   "metadata": {},
   "outputs": [],
   "source": [
    "tol = 1.e-6 #convergence tolerance on newton raphson solver \n",
    "t = np.linspace(0,1,1000) #Time array\n",
    "dt = t[1] - t[0] #Time step\n",
    "y = np.array([1.,0,0,0,0]) #initial condition where only the ground state is populated\n",
    "\n",
    "A = np.identity(5) - dt*rate_matrix #since the matrix is constant in time, we calculate it once for time/efficiency sake\n",
    "\n",
    "#A good guess of a NR solver is the value of the system at current time  \n",
    "y_dt = y\n",
    "###########################\n",
    "#for memory and processing consideration, it is best to setup the 2D array that will contain the solution of the system \n",
    "#throughout time\n",
    "Y = np.empty((5,len(t)))\n",
    "#setting the 1st column to the initial condition\n",
    "Y[:,0] = y\n",
    "\n",
    "for i in range(1,len(t)): \n",
    "    delta = np.ones(5)\n",
    "    while max(delta) > tol:\n",
    "        delta = np.linalg.solve(A,-f_vector(y_dt,y,A))\n",
    "        y_dt = y_dt + delta\n",
    "    #updating the 2D array after convergence\n",
    "    Y[:,i] = y_dt\n",
    "    #setting the new initial condition to the converged solution from previous step\n",
    "    y = y_dt"
   ]
  },
  {
   "cell_type": "markdown",
   "metadata": {},
   "source": [
    "Before plotting the solution, we can also compute the equilibrium solution beforehand and see if our evolved solutions will tend to them."
   ]
  },
  {
   "cell_type": "code",
   "execution_count": 10,
   "metadata": {},
   "outputs": [
    {
     "data": {
      "image/png": "[encoded data removed]",
      "text/plain": [
       "<Figure size 864x864 with 1 Axes>"
      ]
     },
     "metadata": {
      "needs_background": "light"
     },
     "output_type": "display_data"
    }
   ],
   "source": [
    "eq_probs = sp.compute_equilibrium_probabilities(T)\n",
    "\n",
    "plt.figure(figsize=(12,12))\n",
    "for i in range(len(sp.get_levels())):\n",
    "    plt.plot(t,Y[i,:],label = str(i) + ' level')\n",
    "        \n",
    "for i in range(len(eq_probs)):\n",
    "    plt.plot(1, eq_probs[i], 'x')\n",
    "    \n",
    "plt.xlabel('time (s)')\n",
    "plt.ylabel('Probability')\n",
    "\n",
    "plt.legend()\n",
    "plt.show()"
   ]
  },
  {
   "cell_type": "markdown",
   "metadata": {},
   "source": [
    "The fugacity evolution of each level can be calculated based on the attained solution"
   ]
  },
  {
   "cell_type": "code",
   "execution_count": 11,
   "metadata": {},
   "outputs": [
    {
     "data": {
      "text/plain": [
       "(0.0, 0.1)"
      ]
     },
     "execution_count": 11,
     "metadata": {},
     "output_type": "execute_result"
    },
    {
     "data": {
      "image/png": "[encoded data removed]",
      "text/plain": [
       "<Figure size 864x864 with 1 Axes>"
      ]
     },
     "metadata": {
      "needs_background": "light"
     },
     "output_type": "display_data"
    }
   ],
   "source": [
    "fugacities = np.empty((Y.shape[0], Y.shape[1]))\n",
    "\n",
    "for i in range(len(sp.get_levels())):\n",
    "    fugacities[i, :] = Y[i, :] / eq_probs[i]\n",
    "    \n",
    "plt.figure(figsize=(12,12))\n",
    "for i in range(len(sp.get_levels())):\n",
    "    plt.plot(t,fugacities[i,:],label = str(i) + ' level')\n",
    "    \n",
    "plt.xlabel('time (s)')\n",
    "plt.ylabel('Fugacity')\n",
    "    \n",
    "plt.xlim([0,0.1])"
   ]
  },
  {
   "cell_type": "markdown",
   "metadata": {},
   "source": [
    "As a final step to illustrate another *SpColl* method, output the data in the species collection to new files.  The first uses the default energy scale (*keV*) while the second specifically selects *eV* as the energy scale for the levels."
   ]
  },
  {
   "cell_type": "code",
   "execution_count": 12,
   "metadata": {},
   "outputs": [
    {
     "name": "stdout",
     "output_type": "stream",
     "text": [
      "<species_collection>\r\n",
      "  <species name=\"my_species\">\r\n",
      "    <levels>\r\n",
      "      <level>\r\n",
      "        <properties>\r\n",
      "          <energy units=\"eV\">0.0</energy>\r\n",
      "          <multiplicity>1</multiplicity>\r\n",
      "        </properties>\r\n",
      "      </level>\r\n",
      "      <level>\r\n",
      "        <properties>\r\n",
      "          <energy units=\"eV\">100000.0</energy>\r\n",
      "          <multiplicity>1</multiplicity>\r\n",
      "        </properties>\r\n",
      "        <transitions>\r\n",
      "          <transition>\r\n",
      "            <to_energy units=\"eV\">0.0</to_energy>\r\n",
      "            <to_multiplicity>1</to_multiplicity>\r\n",
      "            <a>100.0</a>\r\n",
      "          </transition>\r\n",
      "        </transitions>\r\n",
      "      </level>\r\n",
      "      <level>\r\n",
      "        <properties>\r\n",
      "          <energy units=\"eV\">200000.0</energy>\r\n",
      "          <multiplicity>4</multiplicity>\r\n",
      "        </properties>\r\n",
      "        <transitions>\r\n",
      "          <transition>\r\n",
      "            <to_energy units=\"eV\">100000.0</to_energy>\r\n",
      "            <to_multiplicity>1</to_multiplicity>\r\n",
      "            <a>100.0</a>\r\n",
      "          </transition>\r\n",
      "          <transition>\r\n",
      "            <to_energy units=\"eV\">0.0</to_energy>\r\n",
      "            <to_multiplicity>1</to_multiplicity>\r\n",
      "            <a>100.0</a>\r\n",
      "          </transition>\r\n",
      "        </transitions>\r\n",
      "      </level>\r\n",
      "      <level>\r\n",
      "        <properties>\r\n",
      "          <energy units=\"eV\">300000.0</energy>\r\n",
      "          <multiplicity>3</multiplicity>\r\n",
      "        </properties>\r\n",
      "        <transitions>\r\n",
      "          <transition>\r\n",
      "            <to_energy units=\"eV\">200000.0</to_energy>\r\n",
      "            <to_multiplicity>4</to_multiplicity>\r\n",
      "            <a>100.0</a>\r\n",
      "          </transition>\r\n",
      "          <transition>\r\n",
      "            <to_energy units=\"eV\">100000.0</to_energy>\r\n",
      "            <to_multiplicity>1</to_multiplicity>\r\n",
      "            <a>100.0</a>\r\n",
      "          </transition>\r\n",
      "          <transition>\r\n",
      "            <to_energy units=\"eV\">0.0</to_energy>\r\n",
      "            <to_multiplicity>1</to_multiplicity>\r\n",
      "            <a>100.0</a>\r\n",
      "          </transition>\r\n",
      "        </transitions>\r\n",
      "      </level>\r\n",
      "      <level>\r\n",
      "        <properties>\r\n",
      "          <energy units=\"eV\">500000.0</energy>\r\n",
      "          <multiplicity>3</multiplicity>\r\n",
      "        </properties>\r\n",
      "        <transitions>\r\n",
      "          <transition>\r\n",
      "            <to_energy units=\"eV\">300000.0</to_energy>\r\n",
      "            <to_multiplicity>3</to_multiplicity>\r\n",
      "            <a>100.0</a>\r\n",
      "          </transition>\r\n",
      "          <transition>\r\n",
      "            <to_energy units=\"eV\">200000.0</to_energy>\r\n",
      "            <to_multiplicity>4</to_multiplicity>\r\n",
      "            <a>100.0</a>\r\n",
      "          </transition>\r\n",
      "          <transition>\r\n",
      "            <to_energy units=\"eV\">100000.0</to_energy>\r\n",
      "            <to_multiplicity>1</to_multiplicity>\r\n",
      "            <a>100.0</a>\r\n",
      "          </transition>\r\n",
      "          <transition>\r\n",
      "            <to_energy units=\"eV\">0.0</to_energy>\r\n",
      "            <to_multiplicity>1</to_multiplicity>\r\n",
      "            <a>100.0</a>\r\n",
      "          </transition>\r\n",
      "        </transitions>\r\n",
      "      </level>\r\n",
      "    </levels>\r\n",
      "  </species>\r\n",
      "</species_collection>\r\n"
     ]
    }
   ],
   "source": [
    "new_coll.write_to_xml(\"new_example.xml\")\n",
    "\n",
    "new_coll.write_to_xml(\"new_example_ev.xml\", units = 'eV')\n",
    "\n",
    "!cat new_example_ev.xml"
   ]
  }
 ],
 "metadata": {
  "kernelspec": {
   "display_name": "Python 3",
   "language": "python",
   "name": "python3"
  },
  "language_info": {
   "codemirror_mode": {
    "name": "ipython",
    "version": 3
   },
   "file_extension": ".py",
   "mimetype": "text/x-python",
   "name": "python",
   "nbconvert_exporter": "python",
   "pygments_lexer": "ipython3",
   "version": "3.7.13"
  },
  "vscode": {
   "interpreter": {
    "hash": "916dbcbb3f70747c44a77c7bcd40155683ae19c65e1c03b4aa3499c5328201f1"
   }
  }
 },
 "nbformat": 4,
 "nbformat_minor": 2
}
