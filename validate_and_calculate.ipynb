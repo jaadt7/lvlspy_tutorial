{
 "cells": [
  {
   "cell_type": "code",
   "execution_count": null,
   "metadata": {},
   "outputs": [],
   "source": [
    "import sys, subprocess, pkg_resources\n",
    "required = {'numpy','lvlspy','matplotlib'}\n",
    "installed = {pkg.key for pkg in pkg_resources.working_set}\n",
    "missing = required - installed\n",
    "if missing:\n",
    "    subprocess.check_call([sys.executable, '-m','pip','install','--quiet',*missing])\n",
    "\n",
    "\n",
    "import numpy as np\n",
    "import lvlspy.level as lv\n",
    "import lvlspy.spcoll as lc\n",
    "import lvlspy.species as ls\n",
    "import lvlspy.transition as lt\n",
    "import matplotlib.pyplot as plt"
   ]
  },
  {
   "cell_type": "markdown",
   "metadata": {},
   "source": [
    "The API can be used for equilibrium calculations. Let's create a non-real example and evolve it in time at constant temperature"
   ]
  },
  {
   "cell_type": "code",
   "execution_count": null,
   "metadata": {},
   "outputs": [],
   "source": [
    "levs = [lv.Level(0,1),lv.Level(100,1),lv.Level(500,3),lv.Level(200,4),lv.Level(300,3)]\n",
    "\n",
    "my_species = ls.Species('my_species',levels = levs)\n",
    "\n",
    "my_levs = my_species.get_levels()\n",
    "\n",
    "for i in range(len(my_levs)-1,0,-1):\n",
    "    for j in range(i-1,-1,-1):\n",
    "        t = lt.Transition(my_levs[i],my_levs[j],100.)\n",
    "        my_species.add_transition(t)\n",
    "\n",
    "T = 2e+9 #temperature in Kelvin\n",
    "\n",
    "rate_matrix = my_species.compute_rate_matrix(T)\n",
    "\n",
    "def f_vector(y_dt,y_i,A):\n",
    "    return np.matmul(A,y_dt) - y_i\n",
    "\n",
    "tol = 1.e-6 #convergence tolerance on newton raphson solver \n",
    "t = np.linspace(0,1,1000)\n",
    "dt = t[1] - t[0]\n",
    "y = np.array([1.,0,0,0,0])\n",
    "A = np.identity(5) - dt*rate_matrix\n",
    "y_dt = y\n",
    "y = y_dt\n",
    "Y = np.empty((5,len(t)))\n",
    "Y[:,0] = y\n",
    "\n",
    "for i in range(1,len(t)): \n",
    "    delta = np.ones(5)\n",
    "    while max(delta) > tol:\n",
    "        delta = np.linalg.solve(A,-f_vector(y_dt,y,A))\n",
    "        y_dt = y_dt + delta\n",
    "    Y[:,i] = y_dt\n",
    "    y = y_dt\n",
    "\n",
    "eq_probs = my_species.compute_equilibrium_probabilities(T)\n",
    "\n",
    "plt.figure(figsize=(12,12))\n",
    "for i in range(len(my_levs)):\n",
    "    plt.plot(t,Y[i,:],label = str(i) + ' level')\n",
    "        \n",
    "for i in range(len(eq_probs)):\n",
    "    plt.plot(1, eq_probs[i], 'x')\n",
    "\n",
    "plt.legend()\n",
    "plt.show()"
   ]
  },
  {
   "cell_type": "markdown",
   "metadata": {},
   "source": []
  },
  {
   "cell_type": "code",
   "execution_count": null,
   "metadata": {},
   "outputs": [],
   "source": [
    "fugacities = np.empty((Y.shape[0], Y.shape[1]))\n",
    "\n",
    "for i in range(len(my_levs)):\n",
    "    fugacities[i, :] = Y[i, :] / eq_probs[i]\n",
    "    \n",
    "plt.figure(figsize=(12,12))\n",
    "for i in range(len(my_levs)):\n",
    "    plt.plot(t,fugacities[i,:],label = str(i) + ' level')\n",
    "    \n",
    "plt.xlim([0,0.1])"
   ]
  }
 ],
 "metadata": {
  "kernelspec": {
   "display_name": "Python 3.9.2 64-bit",
   "language": "python",
   "name": "python3"
  },
  "language_info": {
   "name": "python",
   "version": "3.9.2"
  },
  "orig_nbformat": 4,
  "vscode": {
   "interpreter": {
    "hash": "916dbcbb3f70747c44a77c7bcd40155683ae19c65e1c03b4aa3499c5328201f1"
   }
  }
 },
 "nbformat": 4,
 "nbformat_minor": 2
}
