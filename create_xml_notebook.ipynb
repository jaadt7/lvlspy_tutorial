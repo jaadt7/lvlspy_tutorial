{
 "cells": [
  {
   "cell_type": "markdown",
   "metadata": {},
   "source": [
    "This notebook is designed to walk the user through the classes included in lvlspy. This first thing to do is to quietly install and import any missing python packages this notebook will use"
   ]
  },
  {
   "cell_type": "code",
   "execution_count": 1,
   "metadata": {},
   "outputs": [],
   "source": [
    "import sys, subprocess, pkg_resources\n",
    "required = {'numpy','lvlspy','matplotlib'}\n",
    "installed = {pkg.key for pkg in pkg_resources.working_set}\n",
    "missing = required - installed\n",
    "if missing:\n",
    "    subprocess.check_call([sys.executable, '-m','pip','install','--quiet',*missing])\n",
    "\n",
    "\n",
    "import numpy as np\n",
    "import lvlspy.level as lv\n",
    "import lvlspy.species as ls\n",
    "import lvlspy.transition as lt\n",
    "import matplotlib.pyplot as plt"
   ]
  },
  {
   "cell_type": "markdown",
   "metadata": {},
   "source": [
    "You can create an array of levels with input of energy and multiplicity. The default unit for energy is in keV"
   ]
  },
  {
   "cell_type": "code",
   "execution_count": 11,
   "metadata": {},
   "outputs": [],
   "source": [
    "levs = [lv.Level(0,1),lv.Level(100,1,units=\"GeV\"),lv.Level(500,3,units=\"eV\"),lv.Level(200,4,units = \"MeV\")]"
   ]
  },
  {
   "cell_type": "markdown",
   "metadata": {},
   "source": [
    "You can associate the levels with a species. For our purposes, we shall call it test and print out the levels. The energy will be print out in kev"
   ]
  },
  {
   "cell_type": "code",
   "execution_count": 12,
   "metadata": {},
   "outputs": [
    {
     "name": "stdout",
     "output_type": "stream",
     "text": [
      "0.0 1\n",
      "0.5 3\n",
      "200000.0 4\n",
      "100000000.0 1\n"
     ]
    }
   ],
   "source": [
    "s = ls.Species('test',levels=levs)\n",
    "for lev in s.get_levels():\n",
    "    print(lev.get_energy(), lev.get_multiplicity())"
   ]
  },
  {
   "cell_type": "markdown",
   "metadata": {},
   "source": [
    "The levels need not be specified from the start, you can add or remove on the fly"
   ]
  },
  {
   "cell_type": "code",
   "execution_count": 14,
   "metadata": {},
   "outputs": [
    {
     "name": "stdout",
     "output_type": "stream",
     "text": [
      "0.0 1\n",
      "0.5 3\n",
      "300.0 3\n",
      "300.0 3\n",
      "100000000.0 1\n"
     ]
    }
   ],
   "source": [
    "# Add another level.\n",
    "\n",
    "s.add_level(lv.Level(300, 3))\n",
    "\n",
    "# Remove a level\n",
    "s.remove_level(lv.Level(200, 4,units = 'MeV')) \n",
    "\n",
    "# Print out levels again. \n",
    "\n",
    "for lev in s.get_levels():\n",
    "    print(lev.get_energy(), lev.get_multiplicity())\n"
   ]
  },
  {
   "cell_type": "markdown",
   "metadata": {},
   "source": [
    "Create the levels and add them to the species."
   ]
  },
  {
   "cell_type": "code",
   "execution_count": 2,
   "metadata": {},
   "outputs": [],
   "source": [
    "levs = [lv.Level(0,1),lv.Level(100,1),lv.Level(500,3),lv.Level(200,4),lv.Level(300,3)]\n",
    "\n",
    "my_species = ls.Species('my_species',levels = levs)"
   ]
  },
  {
   "cell_type": "markdown",
   "metadata": {},
   "source": [
    "You can update optional properties for any level. In this example, we will update properties for level 0"
   ]
  },
  {
   "cell_type": "code",
   "execution_count": null,
   "metadata": {},
   "outputs": [],
   "source": [
    "levs[0].update_properties({'color': 'black'})\n",
    "levs[0].update_properties({'smell': 'stinky'})\n",
    "levs[0].update_properties({'smell': 'nice'})\n",
    "levs[0].update_properties({('first name', 'last name'): ('Jaad', 'Tannous')})\n",
    "\n",
    "# Print out level properties\n",
    "\n",
    "for prop in levs[0].get_properties():\n",
    "    print(prop, ':', levs[0].get_properties()[prop])"
   ]
  },
  {
   "cell_type": "markdown",
   "metadata": {},
   "source": [
    "You can also update the optional properties for the species"
   ]
  },
  {
   "cell_type": "code",
   "execution_count": null,
   "metadata": {},
   "outputs": [],
   "source": [
    "s.update_properties({'Motto': 'Go Tigers!'})\n",
    "s.update_properties({('key1', 'key2', 'key3'): ('value1', 'value2', 'value3')})\n",
    "\n",
    "# Print out species properties\n",
    "\n",
    "for prop in s.get_properties():\n",
    "    print(prop, ':', s.get_properties()[prop])"
   ]
  },
  {
   "cell_type": "markdown",
   "metadata": {},
   "source": [
    "The API allows for the calculation of downwards transitions if you supply the Einstein A coefficient and add optional properties to it"
   ]
  },
  {
   "cell_type": "code",
   "execution_count": null,
   "metadata": {},
   "outputs": [],
   "source": [
    "t = lt.Transition(levs[1], levs[0], 100.)\n",
    "\n",
    "# Update optional properties for transition\n",
    "\n",
    "t.update_properties({'Name': 'Fast'})\n",
    "\n",
    "# Print out transition properties\n",
    "\n",
    "for prop in t.get_properties():\n",
    "    print(prop, ':', t.get_properties()[prop])\n"
   ]
  },
  {
   "cell_type": "markdown",
   "metadata": {},
   "source": [
    "The remaining properties of the transition can be calculated as well"
   ]
  },
  {
   "cell_type": "code",
   "execution_count": null,
   "metadata": {},
   "outputs": [],
   "source": [
    "# Print the Einstein coefficients for the transition\n",
    "\n",
    "print(t.get_upper_level().get_energy(), t.get_lower_level().get_energy(),\n",
    "      t.get_Einstein_A(), t.get_Einstein_B_upper_to_lower(),\n",
    "      t.get_Einstein_B_lower_to_upper())\n",
    "\n",
    "# Print the frequency for the transition\n",
    "\n",
    "print('nu (per second) =', t.get_frequency())"
   ]
  },
  {
   "cell_type": "markdown",
   "metadata": {},
   "source": [
    "For a given temperature, in Kelvin, you can compute the transition rates"
   ]
  },
  {
   "cell_type": "code",
   "execution_count": null,
   "metadata": {},
   "outputs": [],
   "source": [
    "T = 1.e9\n",
    "\n",
    "print(t.compute_upper_to_lower_rate(T), t.compute_lower_to_upper_rate(T))\n",
    "\n",
    "# Compute and print out the equilibrium probabilities\n",
    "\n",
    "p = s.compute_equilibrium_probabilities(T)\n",
    "\n",
    "for i in range(len(p)):\n",
    "    print('Level =', i, ', Probability =', p[i])"
   ]
  },
  {
   "cell_type": "markdown",
   "metadata": {},
   "source": [
    "You can also add the transitions to the species "
   ]
  },
  {
   "cell_type": "code",
   "execution_count": null,
   "metadata": {},
   "outputs": [],
   "source": [
    "s.add_transition(t)\n",
    "\n",
    "print('New number of transitions =', len(s.get_transitions()))\n",
    "\n",
    "for tr in s.get_transitions():\n",
    "    print('A:', t.get_Einstein_A())\n"
   ]
  },
  {
   "cell_type": "markdown",
   "metadata": {},
   "source": [
    "The rate matrix can be calculated for the number of transitions and temperature supplied"
   ]
  },
  {
   "cell_type": "code",
   "execution_count": null,
   "metadata": {},
   "outputs": [],
   "source": [
    "print('\\nRate Matrix:\\n')\n",
    "\n",
    "for i in range(rate_matrix.shape[0]):\n",
    "    for j in range(rate_matrix.shape[1]):\n",
    "        print(i, j, rate_matrix[i, j])"
   ]
  },
  {
   "cell_type": "markdown",
   "metadata": {},
   "source": [
    "The API can be used for equilibrium calculations. Let's create a non-real example and evolve it in time at constant temperature"
   ]
  },
  {
   "cell_type": "code",
   "execution_count": null,
   "metadata": {},
   "outputs": [],
   "source": [
    "levs = [lv.Level(0,1),lv.Level(100,1),lv.Level(500,3),lv.Level(200,4),lv.Level(300,3)]\n",
    "\n",
    "my_species = ls.Species('my_species',levels = levs)\n",
    "\n",
    "my_levs = my_species.get_levels()\n",
    "\n",
    "for i in range(len(my_levs)-1,0,-1):\n",
    "    for j in range(i-1,-1,-1):\n",
    "        t = lt.Transition(my_levs[i],my_levs[j],100.)\n",
    "        my_species.add_transition(t)\n",
    "\n",
    "T = 2e+9 #temperature in Kelvin"
   ]
  },
  {
   "cell_type": "markdown",
   "metadata": {},
   "source": [
    "Compute the rate matrix."
   ]
  },
  {
   "cell_type": "code",
   "execution_count": 5,
   "metadata": {},
   "outputs": [],
   "source": [
    "rate_matrix = my_species.compute_rate_matrix(T)"
   ]
  },
  {
   "cell_type": "markdown",
   "metadata": {},
   "source": [
    "Now that everything required to solve the differential equation $\\frac{dY}{dt} = \\Lambda Y$, we set up a Newton-Raphson solver. The following definition calculates the vector f in the equation $A\\delta = -f$"
   ]
  },
  {
   "cell_type": "code",
   "execution_count": 6,
   "metadata": {},
   "outputs": [],
   "source": [
    "def f_vector(y_dt,y_i,A):\n",
    "    return np.matmul(A,y_dt) - y_i"
   ]
  },
  {
   "cell_type": "markdown",
   "metadata": {},
   "source": [
    "The following contains the setup and loop for the Newton-Raphson solver. If you are unfamiliar with the method, it is fully described at [webnucleo.org](https://webnucleo.readthedocs.io/en/latest/jupyter_notebooks.html)"
   ]
  },
  {
   "cell_type": "code",
   "execution_count": 7,
   "metadata": {},
   "outputs": [],
   "source": [
    "tol = 1.e-6 #convergence tolerance on newton raphson solver \n",
    "t = np.linspace(0,1,1000)\n",
    "dt = t[1] - t[0]\n",
    "y = np.array([1.,0,0,0,0])\n",
    "A = np.identity(5) - dt*rate_matrix\n",
    "y_dt = y\n",
    "y = y_dt\n",
    "Y = np.empty((5,len(t)))\n",
    "Y[:,0] = y\n",
    "\n",
    "for i in range(1,len(t)): \n",
    "    delta = np.ones(5)\n",
    "    while max(delta) > tol:\n",
    "        delta = np.linalg.solve(A,-f_vector(y_dt,y,A))\n",
    "        y_dt = y_dt + delta\n",
    "    Y[:,i] = y_dt\n",
    "    y = y_dt"
   ]
  },
  {
   "cell_type": "markdown",
   "metadata": {},
   "source": [
    "Compute the equilibrium probabilities"
   ]
  },
  {
   "cell_type": "code",
   "execution_count": 8,
   "metadata": {},
   "outputs": [],
   "source": [
    "eq_probs = my_species.compute_equilibrium_probabilities(T)"
   ]
  },
  {
   "cell_type": "markdown",
   "metadata": {},
   "source": [
    "Plot the probabilities vs. time.  Plot the equilibrium probabilities for comparison."
   ]
  },
  {
   "cell_type": "code",
   "execution_count": 9,
   "metadata": {},
   "outputs": [
    {
     "data": {
      "image/png": "[encoded data removed]",
      "text/plain": [
       "<Figure size 864x864 with 1 Axes>"
      ]
     },
     "metadata": {
      "needs_background": "light"
     },
     "output_type": "display_data"
    }
   ],
   "source": [
    "plt.figure(figsize=(12,12))\n",
    "for i in range(len(my_levs)):\n",
    "    plt.plot(t,Y[i,:],label = str(i) + ' level')\n",
    "        \n",
    "for i in range(len(eq_probs)):\n",
    "    plt.plot(1, eq_probs[i], 'x')\n",
    "\n",
    "plt.legend()\n",
    "plt.show()"
   ]
  },
  {
   "cell_type": "markdown",
   "metadata": {},
   "source": [
    "Compute and plot the fugacities."
   ]
  },
  {
   "cell_type": "code",
   "execution_count": 10,
   "metadata": {},
   "outputs": [
    {
     "data": {
      "text/plain": [
       "(0.0, 0.1)"
      ]
     },
     "execution_count": 10,
     "metadata": {},
     "output_type": "execute_result"
    },
    {
     "data": {
      "image/png": "[encoded data removed]",
      "text/plain": [
       "<Figure size 864x864 with 1 Axes>"
      ]
     },
     "metadata": {
      "needs_background": "light"
     },
     "output_type": "display_data"
    }
   ],
   "source": [
    "fugacities = np.empty((Y.shape[0], Y.shape[1]))\n",
    "\n",
    "for i in range(len(my_levs)):\n",
    "    fugacities[i, :] = Y[i, :] / eq_probs[i]\n",
    "    \n",
    "plt.figure(figsize=(12,12))\n",
    "for i in range(len(my_levs)):\n",
    "    plt.plot(t,fugacities[i,:],label = str(i) + ' level')\n",
    "    \n",
    "plt.xlim([0,0.1])"
   ]
  }
 ],
 "metadata": {
  "kernelspec": {
   "display_name": "Python 3",
   "language": "python",
   "name": "python3"
  },
  "language_info": {
   "codemirror_mode": {
    "name": "ipython",
    "version": 3
   },
   "file_extension": ".py",
   "mimetype": "text/x-python",
   "name": "python",
   "nbconvert_exporter": "python",
   "pygments_lexer": "ipython3",
   "version": "3.9.2"
  },
  "vscode": {
   "interpreter": {
    "hash": "31f2aee4e71d21fbe5cf8b01ff0e069b9275f58929596ceb00d14d90e3e16cd6"
   }
  }
 },
 "nbformat": 4,
 "nbformat_minor": 2
}
