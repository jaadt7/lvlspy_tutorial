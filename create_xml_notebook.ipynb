{
 "cells": [
  {
   "cell_type": "markdown",
   "metadata": {},
   "source": [
    "This notebook is designed to walk the user through the classes included in lvlspy. This first thing to do is to quietly install and import any missing python packages this notebook will use"
   ]
  },
  {
   "cell_type": "code",
   "execution_count": null,
   "metadata": {},
   "outputs": [],
   "source": [
    "import sys, subprocess, pkg_resources\n",
    "required = {'lvlspy'}\n",
    "installed = {pkg.key for pkg in pkg_resources.working_set}\n",
    "missing = required - installed\n",
    "if missing:\n",
    "    subprocess.check_call([sys.executable, '-m','pip','install','--quiet',*missing])\n",
    "\n",
    "import lvlspy.level as lv\n",
    "import lvlspy.spcoll as lc\n",
    "import lvlspy.species as ls\n",
    "import lvlspy.transition as lt\n"
   ]
  },
  {
   "cell_type": "markdown",
   "metadata": {},
   "source": [
    "You can create an array of levels with input consisting of energy and multiplicity. The unit is optional and defaults to keV if unspecified. If specified, the API will convert to keV for internal use."
   ]
  },
  {
   "cell_type": "code",
   "execution_count": null,
   "metadata": {},
   "outputs": [],
   "source": [
    "levs = [lv.Level(0,1),lv.Level(1,1,units=\"GeV\"),lv.Level(500,3,units=\"eV\"),lv.Level(200,4,units = \"MeV\"),lv.Level(5,2)]"
   ]
  },
  {
   "cell_type": "markdown",
   "metadata": {},
   "source": [
    "You can associate the levels with a particular species. For our purposes, we shall call it 'test' and print out the levels. The species module with automatically order the energies in ascending order. The printout is in units of keV as mentioned."
   ]
  },
  {
   "cell_type": "code",
   "execution_count": null,
   "metadata": {},
   "outputs": [],
   "source": [
    "s = ls.Species('test',levels=levs)\n",
    "for lev in s.get_levels():\n",
    "    print(lev.get_energy(), lev.get_multiplicity())"
   ]
  },
  {
   "cell_type": "markdown",
   "metadata": {},
   "source": [
    "Levels can be added or removed at any point via the following commands. Care should be given if the unit has been specified beforehand. If you included a unit while listing the levels, you must include it while removing, since it will throw an error stating it couldn't find the level you wish to remove. "
   ]
  },
  {
   "cell_type": "code",
   "execution_count": null,
   "metadata": {},
   "outputs": [],
   "source": [
    "# Add another level.\n",
    "\n",
    "s.add_level(lv.Level(300, 3))\n",
    "\n",
    "# Remove a level\n",
    "s.remove_level(lv.Level(200, 4,units = 'MeV')) \n",
    "\n",
    "# Print out levels again. \n",
    "\n",
    "for lev in s.get_levels():\n",
    "    print(lev.get_energy(), lev.get_multiplicity())\n"
   ]
  },
  {
   "cell_type": "markdown",
   "metadata": {},
   "source": [
    "You can create and update optional properties, physical or custom, for any level. In this example, we will update properties for level 0. Updating the property will create it if it does not already exist or change to the new value if it already does (see the smell property)."
   ]
  },
  {
   "cell_type": "code",
   "execution_count": null,
   "metadata": {},
   "outputs": [],
   "source": [
    "levs[0].update_properties({'color': 'black'})\n",
    "levs[0].update_properties({'smell': 'unpleasant'})\n",
    "levs[0].update_properties({'smell': 'nice'})\n",
    "levs[0].update_properties({'first name': 'Jaad'})\n",
    "levs[0].update_properties({'last name': 'Tannous'})\n",
    "\n",
    "# Print out level properties\n",
    "\n",
    "for prop in levs[0].get_properties():\n",
    "    print(prop, ':', levs[0].get_properties()[prop])"
   ]
  },
  {
   "cell_type": "markdown",
   "metadata": {},
   "source": [
    "The same can be applied to species."
   ]
  },
  {
   "cell_type": "code",
   "execution_count": null,
   "metadata": {},
   "outputs": [],
   "source": [
    "s.update_properties({'Motto': 'Go Tigers!'})\n",
    "s.update_properties({('key1', 'key2', 'key3'): 'cool story'})\n",
    "\n",
    "# Print out species properties\n",
    "\n",
    "for prop in s.get_properties():\n",
    "    print(prop, ':', s.get_properties()[prop])"
   ]
  },
  {
   "cell_type": "markdown",
   "metadata": {},
   "source": [
    "You can calculate transition properties between any two energy states. Since we can experimentally attain Einstein A coefficients, the method takes downward transitioning states with a supplied Einstein A coefficient between said states. Moreover, you can also append optional properties to said transition"
   ]
  },
  {
   "cell_type": "code",
   "execution_count": null,
   "metadata": {},
   "outputs": [],
   "source": [
    "t = lt.Transition(levs[1], levs[0], 100.)\n",
    "# Update optional properties for transition\n",
    "\n",
    "t.update_properties({'Name': 'Fast'})\n",
    "\n",
    "# Print out transition properties\n",
    "\n",
    "for prop in t.get_properties():\n",
    "    print(prop, ':', t.get_properties()[prop])\n"
   ]
  },
  {
   "cell_type": "markdown",
   "metadata": {},
   "source": [
    "The properties of the transition can be extracted. Properties include the energy of the states, the supplied Einstein A coefficient, and the calculated B coefficients."
   ]
  },
  {
   "cell_type": "code",
   "execution_count": null,
   "metadata": {},
   "outputs": [],
   "source": [
    "# Print the Einstein coefficients for the transition\n",
    "\n",
    "print(t.get_upper_level().get_energy(), t.get_lower_level().get_energy(),\n",
    "      t.get_Einstein_A(), t.get_Einstein_B_upper_to_lower(),\n",
    "      t.get_Einstein_B_lower_to_upper())\n",
    "\n",
    "# Print the frequency for the transition\n",
    "\n",
    "print('nu (per second) =', t.get_frequency())"
   ]
  },
  {
   "cell_type": "markdown",
   "metadata": {},
   "source": [
    "For a given temperature, in Kelvin, you can compute the upward and downward transition rates between the two states. You can also calculate the probabilities of finding the species at a given level with specified temperature, when equilibrium is achieved."
   ]
  },
  {
   "cell_type": "code",
   "execution_count": null,
   "metadata": {},
   "outputs": [],
   "source": [
    "T = 1.e9\n",
    "\n",
    "print(t.compute_upper_to_lower_rate(T), t.compute_lower_to_upper_rate(T))\n",
    "\n",
    "# Compute and print out the equilibrium probabilities\n",
    "\n",
    "p = s.compute_equilibrium_probabilities(T)\n",
    "\n",
    "for i in range(len(p)):\n",
    "    print('Level =', i, ', Probability =', p[i])"
   ]
  },
  {
   "cell_type": "markdown",
   "metadata": {},
   "source": [
    "You can also add the transitions to the species "
   ]
  },
  {
   "cell_type": "code",
   "execution_count": null,
   "metadata": {},
   "outputs": [],
   "source": [
    "s.add_transition(t)\n",
    "\n",
    "print('New number of transitions =', len(s.get_transitions()))\n",
    "\n",
    "for tr in s.get_transitions():\n",
    "    print('A:', t.get_Einstein_A())\n"
   ]
  },
  {
   "cell_type": "markdown",
   "metadata": {},
   "source": [
    "The API allows to print out the species collection, and all their properties, into xml format. The output files in turn can be used with separate scripts to do various calculations. To illustrate writing to XML, let's create another species and species collection"
   ]
  },
  {
   "cell_type": "code",
   "execution_count": null,
   "metadata": {},
   "outputs": [],
   "source": [
    "#New set of levels\n",
    "levs = [lv.Level(0,1), lv.Level(100,1),lv.Level(500,3),lv.Level(200,4)]\n",
    "\n",
    "#New species called 'test2'\n",
    "s2 = ls.Species('test2',levels = levs)\n",
    "\n",
    "#Create collection\n",
    "my_coll = lc.SpColl([s,s2])\n",
    "\n",
    "#print them out\n",
    "for ss in my_coll.get():\n",
    "    print(ss)"
   ]
  },
  {
   "cell_type": "markdown",
   "metadata": {},
   "source": [
    "You can also add optional properties to the collection"
   ]
  },
  {
   "cell_type": "code",
   "execution_count": null,
   "metadata": {},
   "outputs": [],
   "source": [
    "my_coll.update_properties({'color' : 'red'})\n",
    "\n",
    "print(my_coll.get_properties())"
   ]
  },
  {
   "cell_type": "markdown",
   "metadata": {},
   "source": [
    "You can write your collection to XML"
   ]
  },
  {
   "cell_type": "code",
   "execution_count": null,
   "metadata": {},
   "outputs": [],
   "source": [
    "my_coll.write_to_xml('test.xml')\n",
    "\n",
    "!cat test.xml"
   ]
  }
 ],
 "metadata": {
  "kernelspec": {
   "display_name": "Python 3.9.2 64-bit",
   "language": "python",
   "name": "python3"
  },
  "language_info": {
   "codemirror_mode": {
    "name": "ipython",
    "version": 3
   },
   "file_extension": ".py",
   "mimetype": "text/x-python",
   "name": "python",
   "nbconvert_exporter": "python",
   "pygments_lexer": "ipython3",
   "version": "3.9.2"
  },
  "vscode": {
   "interpreter": {
    "hash": "916dbcbb3f70747c44a77c7bcd40155683ae19c65e1c03b4aa3499c5328201f1"
   }
  }
 },
 "nbformat": 4,
 "nbformat_minor": 2
}
