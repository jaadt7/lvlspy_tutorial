{
 "cells": [
  {
   "cell_type": "markdown",
   "metadata": {},
   "source": [
    "This notebook is designed to walk the user through the classes included in lvlspy. This first thing to do is to quietly install and import any missing python packages this notebook will use"
   ]
  },
  {
   "cell_type": "code",
   "execution_count": 20,
   "metadata": {},
   "outputs": [],
   "source": [
    "import sys, subprocess, pkg_resources\n",
    "required = {'lvlspy'}\n",
    "installed = {pkg.key for pkg in pkg_resources.working_set}\n",
    "missing = required - installed\n",
    "if missing:\n",
    "    subprocess.check_call([sys.executable, '-m','pip','install','--quiet',*missing])\n",
    "\n",
    "import lvlspy.level as lv\n",
    "import lvlspy.spcoll as lc\n",
    "import lvlspy.species as ls\n",
    "import lvlspy.transition as lt\n"
   ]
  },
  {
   "cell_type": "markdown",
   "metadata": {},
   "source": [
    "You can create an array of levels with input consisting of energy and multiplicity. The unit is optional and defaults to keV if unspecified. If specified, the API will convert to keV for internal use."
   ]
  },
  {
   "cell_type": "code",
   "execution_count": 21,
   "metadata": {},
   "outputs": [],
   "source": [
    "levs = [lv.Level(0,1),lv.Level(1,1,units=\"GeV\"),lv.Level(500,3,units=\"eV\"),lv.Level(200,4,units = \"MeV\"),lv.Level(5,2)]"
   ]
  },
  {
   "cell_type": "markdown",
   "metadata": {},
   "source": [
    "You can associate the levels with a particular species. For our purposes, we shall call it 'test' and print out the levels. The species module with automatically order the energies in ascending order. The printout is in units of keV as mentioned."
   ]
  },
  {
   "cell_type": "code",
   "execution_count": 22,
   "metadata": {},
   "outputs": [
    {
     "name": "stdout",
     "output_type": "stream",
     "text": [
      "0.0 1\n",
      "0.5 3\n",
      "5.0 2\n",
      "200000.0 4\n",
      "1000000.0 1\n"
     ]
    }
   ],
   "source": [
    "s = ls.Species('test',levels=levs)\n",
    "for lev in s.get_levels():\n",
    "    print(lev.get_energy(), lev.get_multiplicity())"
   ]
  },
  {
   "cell_type": "markdown",
   "metadata": {},
   "source": [
    "Levels can be added or removed at any point via the following commands. Care should be given if the unit has been specified beforehand. If you included a unit while listing the levels, you must include it while removing, since it will throw an error stating it couldn't find the level you wish to remove. "
   ]
  },
  {
   "cell_type": "code",
   "execution_count": 23,
   "metadata": {},
   "outputs": [
    {
     "name": "stdout",
     "output_type": "stream",
     "text": [
      "0.0 1\n",
      "0.5 3\n",
      "5.0 2\n",
      "300.0 3\n",
      "1000000.0 1\n"
     ]
    }
   ],
   "source": [
    "# Add another level.\n",
    "\n",
    "s.add_level(lv.Level(300, 3))\n",
    "\n",
    "# Remove a level\n",
    "s.remove_level(lv.Level(200, 4,units = 'MeV')) \n",
    "\n",
    "# Print out levels again. \n",
    "\n",
    "for lev in s.get_levels():\n",
    "    print(lev.get_energy(), lev.get_multiplicity())\n"
   ]
  },
  {
   "cell_type": "markdown",
   "metadata": {},
   "source": [
    "You can create and update optional properties, physical or custom, for any level. In this example, we will update properties for level 0"
   ]
  },
  {
   "cell_type": "code",
   "execution_count": 24,
   "metadata": {},
   "outputs": [
    {
     "name": "stdout",
     "output_type": "stream",
     "text": [
      "color : black\n",
      "smell : stinky\n",
      "view : nice\n",
      "('first name', 'last name') : ('John', 'Doe')\n"
     ]
    }
   ],
   "source": [
    "levs[0].update_properties({'color': 'black'})\n",
    "levs[0].update_properties({'smell': 'stinky'})\n",
    "levs[0].update_properties({'view': 'nice'})\n",
    "levs[0].update_properties({('first name', 'last name'): ('John', 'Doe')})\n",
    "\n",
    "# Print out level properties\n",
    "\n",
    "for prop in levs[0].get_properties():\n",
    "    print(prop, ':', levs[0].get_properties()[prop])"
   ]
  },
  {
   "cell_type": "markdown",
   "metadata": {},
   "source": [
    "The same can be applied to species."
   ]
  },
  {
   "cell_type": "code",
   "execution_count": 25,
   "metadata": {},
   "outputs": [
    {
     "name": "stdout",
     "output_type": "stream",
     "text": [
      "Motto : Go Tigers!\n",
      "('key1', 'key2', 'key3') : ('value1', 'value2', 'value3')\n"
     ]
    }
   ],
   "source": [
    "s.update_properties({'Motto': 'Go Tigers!'})\n",
    "s.update_properties({('key1', 'key2', 'key3'): ('value1', 'value2', 'value3')})\n",
    "\n",
    "# Print out species properties\n",
    "\n",
    "for prop in s.get_properties():\n",
    "    print(prop, ':', s.get_properties()[prop])"
   ]
  },
  {
   "cell_type": "markdown",
   "metadata": {},
   "source": [
    "You can calculate transition properties between any two energy states. Since we can experimentally attain Einstein A coefficients, the method takes downward transitioning states with a supplied Einstein A coefficient between said states. Moreover, you can also append optional properties to said transition"
   ]
  },
  {
   "cell_type": "code",
   "execution_count": 26,
   "metadata": {},
   "outputs": [
    {
     "name": "stdout",
     "output_type": "stream",
     "text": [
      "Name : Fast\n"
     ]
    }
   ],
   "source": [
    "t = lt.Transition(levs[1], levs[0], 100.)\n",
    "# Update optional properties for transition\n",
    "\n",
    "t.update_properties({'Name': 'Fast'})\n",
    "\n",
    "# Print out transition properties\n",
    "\n",
    "for prop in t.get_properties():\n",
    "    print(prop, ':', t.get_properties()[prop])\n"
   ]
  },
  {
   "cell_type": "markdown",
   "metadata": {},
   "source": [
    "The properties of the transition can be extracted. Properties include the energy of the states, the supplied Einstein A coefficient, and the calculated B coefficients."
   ]
  },
  {
   "cell_type": "code",
   "execution_count": 27,
   "metadata": {},
   "outputs": [
    {
     "name": "stdout",
     "output_type": "stream",
     "text": [
      "1000000.0 0.0 100.0 4.797249137368367e-22 4.797249137368367e-22\n",
      "nu (per second) = 2.4179892822261806e+23\n"
     ]
    }
   ],
   "source": [
    "# Print the Einstein coefficients for the transition\n",
    "\n",
    "print(t.get_upper_level().get_energy(), t.get_lower_level().get_energy(),\n",
    "      t.get_Einstein_A(), t.get_Einstein_B_upper_to_lower(),\n",
    "      t.get_Einstein_B_lower_to_upper())\n",
    "\n",
    "# Print the frequency for the transition\n",
    "\n",
    "print('nu (per second) =', t.get_frequency())"
   ]
  },
  {
   "cell_type": "markdown",
   "metadata": {},
   "source": [
    "For a given temperature, in Kelvin, you can compute the upward and downward transition rates between the two states. You can also calculate the probabilities of finding the species at a given level with specified temperature, when equilibrium is achieved."
   ]
  },
  {
   "cell_type": "code",
   "execution_count": 28,
   "metadata": {},
   "outputs": [
    {
     "name": "stdout",
     "output_type": "stream",
     "text": [
      "100.0 0.0\n",
      "Level = 0 , Probability = 0.16772338183111088\n",
      "Level = 1 , Probability = 0.500259075515663\n",
      "Level = 2 , Probability = 0.316537170049882\n",
      "Level = 3 , Probability = 0.015480372603344157\n",
      "Level = 4 , Probability = 0.0\n"
     ]
    },
    {
     "name": "stderr",
     "output_type": "stream",
     "text": [
      "/home/j-devil_3/lvlspy/lvlspy/transition.py:158: RuntimeWarning: overflow encountered in exp\n",
      "  return self._fnu() / (np.exp((deltaE * u.keV / T_keV).value) - 1.0)\n"
     ]
    }
   ],
   "source": [
    "T = 1.e9\n",
    "\n",
    "print(t.compute_upper_to_lower_rate(T), t.compute_lower_to_upper_rate(T))\n",
    "\n",
    "# Compute and print out the equilibrium probabilities\n",
    "\n",
    "p = s.compute_equilibrium_probabilities(T)\n",
    "\n",
    "for i in range(len(p)):\n",
    "    print('Level =', i, ', Probability =', p[i])"
   ]
  },
  {
   "cell_type": "markdown",
   "metadata": {},
   "source": [
    "You can also add the transitions to the species "
   ]
  },
  {
   "cell_type": "code",
   "execution_count": 29,
   "metadata": {},
   "outputs": [
    {
     "name": "stdout",
     "output_type": "stream",
     "text": [
      "New number of transitions = 1\n",
      "A: 100.0\n"
     ]
    }
   ],
   "source": [
    "s.add_transition(t)\n",
    "\n",
    "print('New number of transitions =', len(s.get_transitions()))\n",
    "\n",
    "for tr in s.get_transitions():\n",
    "    print('A:', t.get_Einstein_A())\n"
   ]
  },
  {
   "cell_type": "markdown",
   "metadata": {},
   "source": [
    "The rate matrix can be calculated for the number of transitions and temperature supplied"
   ]
  },
  {
   "cell_type": "code",
   "execution_count": 30,
   "metadata": {},
   "outputs": [
    {
     "name": "stdout",
     "output_type": "stream",
     "text": [
      "\n",
      "Rate Matrix:\n",
      "\n",
      "0 0 0.0\n",
      "0 1 0.0\n",
      "0 2 0.0\n",
      "0 3 0.0\n",
      "0 4 100.0\n",
      "1 0 0.0\n",
      "1 1 0.0\n",
      "1 2 0.0\n",
      "1 3 0.0\n",
      "1 4 0.0\n",
      "2 0 0.0\n",
      "2 1 0.0\n",
      "2 2 0.0\n",
      "2 3 0.0\n",
      "2 4 0.0\n",
      "3 0 0.0\n",
      "3 1 0.0\n",
      "3 2 0.0\n",
      "3 3 0.0\n",
      "3 4 0.0\n",
      "4 0 0.0\n",
      "4 1 0.0\n",
      "4 2 0.0\n",
      "4 3 0.0\n",
      "4 4 -100.0\n"
     ]
    }
   ],
   "source": [
    "rate_matrix = s.compute_rate_matrix(T)\n",
    "\n",
    "print('\\nRate Matrix:\\n')\n",
    "\n",
    "for i in range(rate_matrix.shape[0]):\n",
    "    for j in range(rate_matrix.shape[1]):\n",
    "        print(i, j, rate_matrix[i, j])"
   ]
  },
  {
   "cell_type": "markdown",
   "metadata": {},
   "source": [
    "The API allows to print out the species collection, and all their properties, into xml format. The output files in turn can be used with separate scripts to do various calculations. To illustrate writing to XML, let's create another species and species collection"
   ]
  },
  {
   "cell_type": "code",
   "execution_count": 31,
   "metadata": {},
   "outputs": [
    {
     "name": "stdout",
     "output_type": "stream",
     "text": [
      "test\n",
      "test2\n"
     ]
    }
   ],
   "source": [
    "#New set of levels\n",
    "levs = [lv.Level(0,1), lv.Level(100,1),lv.Level(500,3),lv.Level(200,4)]\n",
    "\n",
    "#New species called 'test2'\n",
    "s2 = ls.Species('test2',levels = levs)\n",
    "\n",
    "#Create collection\n",
    "my_coll = lc.SpColl([s,s2])\n",
    "\n",
    "#print them out\n",
    "for ss in my_coll.get():\n",
    "    print(ss)"
   ]
  },
  {
   "cell_type": "markdown",
   "metadata": {},
   "source": [
    "You can also add optional properties to the collection"
   ]
  },
  {
   "cell_type": "code",
   "execution_count": 32,
   "metadata": {},
   "outputs": [
    {
     "name": "stdout",
     "output_type": "stream",
     "text": [
      "{'color': 'red'}\n"
     ]
    }
   ],
   "source": [
    "my_coll.update_properties({'color' : 'red'})\n",
    "\n",
    "print(my_coll.get_properties())"
   ]
  },
  {
   "cell_type": "markdown",
   "metadata": {},
   "source": [
    "You can write your collection to XML"
   ]
  },
  {
   "cell_type": "code",
   "execution_count": 33,
   "metadata": {},
   "outputs": [
    {
     "ename": "TypeError",
     "evalue": "Argument must be bytes or unicode, got 'tuple'",
     "output_type": "error",
     "traceback": [
      "\u001b[0;31m---------------------------------------------------------------------------\u001b[0m",
      "\u001b[0;31mTypeError\u001b[0m                                 Traceback (most recent call last)",
      "\u001b[1;32m/home/j-devil_3/lvlspy_tutorial/create_xml_notebook.ipynb Cell 28\u001b[0m in \u001b[0;36m<cell line: 1>\u001b[0;34m()\u001b[0m\n\u001b[0;32m----> <a href='vscode-notebook-cell:/home/j-devil_3/lvlspy_tutorial/create_xml_notebook.ipynb#X55sZmlsZQ%3D%3D?line=0'>1</a>\u001b[0m my_coll\u001b[39m.\u001b[39;49mwrite_to_xml(\u001b[39m'\u001b[39;49m\u001b[39mtest.xml\u001b[39;49m\u001b[39m'\u001b[39;49m)\n\u001b[1;32m      <a href='vscode-notebook-cell:/home/j-devil_3/lvlspy_tutorial/create_xml_notebook.ipynb#X55sZmlsZQ%3D%3D?line=2'>3</a>\u001b[0m get_ipython()\u001b[39m.\u001b[39msystem(\u001b[39m'\u001b[39m\u001b[39mcat $test.xml\u001b[39m\u001b[39m'\u001b[39m)\n",
      "File \u001b[0;32m~/lvlspy/lvlspy/spcoll.py:99\u001b[0m, in \u001b[0;36mSpColl.write_to_xml\u001b[0;34m(self, file, pretty_print, units)\u001b[0m\n\u001b[1;32m     95\u001b[0m     tu_dict[e_upper]\u001b[39m.\u001b[39mappend(transition)\n\u001b[1;32m     97\u001b[0m my_species \u001b[39m=\u001b[39m etree\u001b[39m.\u001b[39mSubElement(root, \u001b[39m\"\u001b[39m\u001b[39mspecies\u001b[39m\u001b[39m\"\u001b[39m, name\u001b[39m=\u001b[39msp)\n\u001b[0;32m---> 99\u001b[0m \u001b[39mself\u001b[39;49m\u001b[39m.\u001b[39;49m_add_optional_properties(my_species, my_coll[sp])\n\u001b[1;32m    101\u001b[0m my_levels \u001b[39m=\u001b[39m etree\u001b[39m.\u001b[39mSubElement(my_species, \u001b[39m\"\u001b[39m\u001b[39mlevels\u001b[39m\u001b[39m\"\u001b[39m)\n\u001b[1;32m    103\u001b[0m levels \u001b[39m=\u001b[39m my_coll[sp]\u001b[39m.\u001b[39mget_levels()\n",
      "File \u001b[0;32m~/lvlspy/lvlspy/spcoll.py:169\u001b[0m, in \u001b[0;36mSpColl._add_optional_properties\u001b[0;34m(self, my_element, my_object)\u001b[0m\n\u001b[1;32m    166\u001b[0m     \u001b[39mprint\u001b[39m(\u001b[39m\"\u001b[39m\u001b[39mImproper property key\u001b[39m\u001b[39m\"\u001b[39m)\n\u001b[1;32m    167\u001b[0m     exit()\n\u001b[0;32m--> 169\u001b[0m my_prop\u001b[39m.\u001b[39;49mtext \u001b[39m=\u001b[39m my_props[prop]\n",
      "File \u001b[0;32msrc/lxml/etree.pyx:1024\u001b[0m, in \u001b[0;36mlxml.etree._Element.text.__set__\u001b[0;34m()\u001b[0m\n",
      "File \u001b[0;32msrc/lxml/apihelpers.pxi:747\u001b[0m, in \u001b[0;36mlxml.etree._setNodeText\u001b[0;34m()\u001b[0m\n",
      "File \u001b[0;32msrc/lxml/apihelpers.pxi:735\u001b[0m, in \u001b[0;36mlxml.etree._createTextNode\u001b[0;34m()\u001b[0m\n",
      "File \u001b[0;32msrc/lxml/apihelpers.pxi:1538\u001b[0m, in \u001b[0;36mlxml.etree._utf8\u001b[0;34m()\u001b[0m\n",
      "\u001b[0;31mTypeError\u001b[0m: Argument must be bytes or unicode, got 'tuple'"
     ]
    }
   ],
   "source": [
    "my_coll.write_to_xml('test.xml')\n",
    "\n",
    "!cat $test.xml"
   ]
  },
  {
   "cell_type": "markdown",
   "metadata": {},
   "source": [
    "You can also create new empty species collection, validate any existing xml, update the created empty collection and output to a specific unit"
   ]
  },
  {
   "cell_type": "code",
   "execution_count": 34,
   "metadata": {},
   "outputs": [
    {
     "name": "stderr",
     "output_type": "stream",
     "text": [
      "/home/j-devil_3/lvlspy/lvlspy/spcoll.py:109: SyntaxWarning: \"is not\" with a literal. Did you mean \"!=\"?\n",
      "  if units is not \"keV\":\n",
      "/home/j-devil_3/lvlspy/lvlspy/spcoll.py:125: SyntaxWarning: \"is not\" with a literal. Did you mean \"!=\"?\n",
      "  if units is not \"keV\":\n",
      "/home/j-devil_3/lvlspy/lvlspy/spcoll.py:109: SyntaxWarning: \"is not\" with a literal. Did you mean \"!=\"?\n",
      "  if units is not \"keV\":\n",
      "/home/j-devil_3/lvlspy/lvlspy/spcoll.py:125: SyntaxWarning: \"is not\" with a literal. Did you mean \"!=\"?\n",
      "  if units is not \"keV\":\n"
     ]
    },
    {
     "ename": "OSError",
     "evalue": "Error reading file 'test.xml': failed to load external entity \"test.xml\"",
     "output_type": "error",
     "traceback": [
      "\u001b[0;31m---------------------------------------------------------------------------\u001b[0m",
      "\u001b[0;31mOSError\u001b[0m                                   Traceback (most recent call last)",
      "\u001b[1;32m/home/j-devil_3/lvlspy_tutorial/create_xml_notebook.ipynb Cell 30\u001b[0m in \u001b[0;36m<cell line: 5>\u001b[0;34m()\u001b[0m\n\u001b[1;32m      <a href='vscode-notebook-cell:/home/j-devil_3/lvlspy_tutorial/create_xml_notebook.ipynb#X60sZmlsZQ%3D%3D?line=1'>2</a>\u001b[0m new_coll \u001b[39m=\u001b[39m lc\u001b[39m.\u001b[39mSpColl()\n\u001b[1;32m      <a href='vscode-notebook-cell:/home/j-devil_3/lvlspy_tutorial/create_xml_notebook.ipynb#X60sZmlsZQ%3D%3D?line=3'>4</a>\u001b[0m \u001b[39m#Validate existing xml\u001b[39;00m\n\u001b[0;32m----> <a href='vscode-notebook-cell:/home/j-devil_3/lvlspy_tutorial/create_xml_notebook.ipynb#X60sZmlsZQ%3D%3D?line=4'>5</a>\u001b[0m new_coll\u001b[39m.\u001b[39;49mvalidate(\u001b[39m'\u001b[39;49m\u001b[39mtest.xml\u001b[39;49m\u001b[39m'\u001b[39;49m)\n\u001b[1;32m      <a href='vscode-notebook-cell:/home/j-devil_3/lvlspy_tutorial/create_xml_notebook.ipynb#X60sZmlsZQ%3D%3D?line=6'>7</a>\u001b[0m \u001b[39m#Update collection from xml\u001b[39;00m\n\u001b[1;32m      <a href='vscode-notebook-cell:/home/j-devil_3/lvlspy_tutorial/create_xml_notebook.ipynb#X60sZmlsZQ%3D%3D?line=7'>8</a>\u001b[0m new_coll\u001b[39m.\u001b[39mupdate_from_xml(\u001b[39m'\u001b[39m\u001b[39mtest.xml\u001b[39m\u001b[39m'\u001b[39m)\n",
      "File \u001b[0;32m~/lvlspy/lvlspy/spcoll.py:213\u001b[0m, in \u001b[0;36mSpColl.validate\u001b[0;34m(self, file)\u001b[0m\n\u001b[1;32m    202\u001b[0m \u001b[39m\"\"\"Method to validate a species collection XML file.\u001b[39;00m\n\u001b[1;32m    203\u001b[0m \n\u001b[1;32m    204\u001b[0m \u001b[39mArgs:\u001b[39;00m\n\u001b[0;32m   (...)\u001b[0m\n\u001b[1;32m    209\u001b[0m \n\u001b[1;32m    210\u001b[0m \u001b[39m\"\"\"\u001b[39;00m\n\u001b[1;32m    212\u001b[0m parser \u001b[39m=\u001b[39m etree\u001b[39m.\u001b[39mXMLParser(remove_blank_text\u001b[39m=\u001b[39m\u001b[39mTrue\u001b[39;00m)\n\u001b[0;32m--> 213\u001b[0m xml \u001b[39m=\u001b[39m etree\u001b[39m.\u001b[39;49mparse(file, parser)\n\u001b[1;32m    214\u001b[0m xml\u001b[39m.\u001b[39mxinclude()\n\u001b[1;32m    216\u001b[0m url \u001b[39m=\u001b[39m \u001b[39m\"\u001b[39m\u001b[39mhttp://liblvls.sourceforge.net/xsd_pub/2022-09-10/spcoll.xsd\u001b[39m\u001b[39m\"\u001b[39m\n",
      "File \u001b[0;32msrc/lxml/etree.pyx:3521\u001b[0m, in \u001b[0;36mlxml.etree.parse\u001b[0;34m()\u001b[0m\n",
      "File \u001b[0;32msrc/lxml/parser.pxi:1859\u001b[0m, in \u001b[0;36mlxml.etree._parseDocument\u001b[0;34m()\u001b[0m\n",
      "File \u001b[0;32msrc/lxml/parser.pxi:1885\u001b[0m, in \u001b[0;36mlxml.etree._parseDocumentFromURL\u001b[0;34m()\u001b[0m\n",
      "File \u001b[0;32msrc/lxml/parser.pxi:1789\u001b[0m, in \u001b[0;36mlxml.etree._parseDocFromFile\u001b[0;34m()\u001b[0m\n",
      "File \u001b[0;32msrc/lxml/parser.pxi:1177\u001b[0m, in \u001b[0;36mlxml.etree._BaseParser._parseDocFromFile\u001b[0;34m()\u001b[0m\n",
      "File \u001b[0;32msrc/lxml/parser.pxi:615\u001b[0m, in \u001b[0;36mlxml.etree._ParserContext._handleParseResultDoc\u001b[0;34m()\u001b[0m\n",
      "File \u001b[0;32msrc/lxml/parser.pxi:725\u001b[0m, in \u001b[0;36mlxml.etree._handleParseResult\u001b[0;34m()\u001b[0m\n",
      "File \u001b[0;32msrc/lxml/parser.pxi:652\u001b[0m, in \u001b[0;36mlxml.etree._raiseParseError\u001b[0;34m()\u001b[0m\n",
      "\u001b[0;31mOSError\u001b[0m: Error reading file 'test.xml': failed to load external entity \"test.xml\""
     ]
    }
   ],
   "source": [
    "#Empty collection\n",
    "new_coll = lc.SpColl()\n",
    "\n",
    "#Validate existing xml\n",
    "new_coll.validate('test.xml')\n",
    "\n",
    "#Update collection from xml\n",
    "new_coll.update_from_xml('test.xml')\n",
    "\n",
    "#Writing to new xml\n",
    "new_coll.write_to_xml(\"new.xml\")\n",
    "\n",
    "#Write with specific units\n",
    "new_coll.write_to_xml(\"new_ev.xml\", units = 'ev')\n",
    "\n",
    "!cat $new_ev.xml"
   ]
  }
 ],
 "metadata": {
  "kernelspec": {
   "display_name": "Python 3",
   "language": "python",
   "name": "python3"
  },
  "language_info": {
   "codemirror_mode": {
    "name": "ipython",
    "version": 3
   },
   "file_extension": ".py",
   "mimetype": "text/x-python",
   "name": "python",
   "nbconvert_exporter": "python",
   "pygments_lexer": "ipython3",
   "version": "3.9.2"
  },
  "vscode": {
   "interpreter": {
    "hash": "31f2aee4e71d21fbe5cf8b01ff0e069b9275f58929596ceb00d14d90e3e16cd6"
   }
  }
 },
 "nbformat": 4,
 "nbformat_minor": 2
}
